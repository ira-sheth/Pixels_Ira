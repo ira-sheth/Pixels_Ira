{
 "cells": [
  {
   "cell_type": "markdown",
   "id": "10fce206",
   "metadata": {},
   "source": [
    "# Python\n",
    "\n",
    "### Features\n",
    "* Friendly Syntax\n",
    "* Free and Open Source\n",
    "* Object-Oriented Language\n",
    "* Dynamically Typed\n",
    "* Interpreted\n",
    "* Portable\n",
    "<hr>\n",
    "\n",
    "### A few important things to know\n",
    "* To run Python programs, you will need the Python interpreter and possibly a text editor.\n",
    "* A Python interpreter executes Python code (sometimes called programs).\n",
    "* A program can be one or more Python files. Code files can include other files or modules. \n",
    "\n",
    "### Interpreted and Compiled Overview\n",
    "* In the simple model of the world, “compile” means to convert a program in a high-level language into a binary executable full of machine code (CPU instructions). \n",
    "* When you compile a C program, this is what happens. The result is a file that your operating system can run for you.\n",
    "* In the simple definition of “interpreted”, executing a program means reading the source code a line at a time, and doing what it says. This is the way some shells operate.\n",
    "* In Python, the source code is compiled into a much simpler form called bytecode. \n",
    "* These are instructions similar in spirit to CPU instructions, but instead of being executed by the CPU, they are executed by software called a virtual machine. (These are not VM’s that emulate entire operating systems, just a simplified CPU execution environment.)\n",
    "* Is Python compiled? Yes. Is Python interpreted? Yes.\n",
    "* *In terms of raw performance, Python is definitely slower than Java, C# and C/C++. However, there are other things that matter for the user/observer such as total memory usage, initial startup time, etc. For most things, Python is fast enough ;) . Check [this](https://benchmarksgame-team.pages.debian.net/benchmarksgame/fastest/python3-java.html) for benchmarks\n",
    "\n",
    "<hr>\n",
    "\n",
    "### Jupyter-Notebook\n",
    "* While python code can be run in IDLE , and *.py* files we recommend you to download jupyter-notebook. Refer [this](https://www.geeksforgeeks.org/how-to-install-jupyter-notebook-in-windows/).\n",
    "* If you don't have anaconda, refer to its official site to download.\n",
    "* Read more [here](https://programminghistorian.org/en/lessons/jupyter-notebooks)."
   ]
  },
  {
   "cell_type": "markdown",
   "id": "519281fc",
   "metadata": {},
   "source": [
    "## Data Types and Variables\n",
    "<hr>\n",
    "\n",
    "| Data types | Python |\n",
    "| --- | --- |\n",
    "| Text Type: |\tstr |\n",
    "| Numeric Types:\t| int, float, complex |\n",
    "| Sequence Types:\t| list, tuple, range  |\n",
    "| Mapping Type:\t    | dict\n",
    "| Set Types: \t    | set, frozenset\n",
    "| Boolean Type:     |\tbool\n",
    "| Binary Types:\t| bytes, bytearray, memoryview\n",
    "\n",
    "<hr>\n",
    "\n",
    "### Naming\n",
    "* A variable name must begin with a letter (upper or lower case) or an underscore.\n",
    "* Variables cannot start with a number and are case sensitive."
   ]
  },
  {
   "cell_type": "code",
   "execution_count": 1,
   "id": "88eb24bd",
   "metadata": {},
   "outputs": [
    {
     "name": "stdout",
     "output_type": "stream",
     "text": [
      "3\n",
      "3.1415926\n",
      "Python\n",
      "Python Python\n",
      "6.2831852\n"
     ]
    }
   ],
   "source": [
    "x = 3              # a whole number                   \n",
    "f = 3.1415926      # a floating point number              \n",
    "name = \"Python\"    # a string\n",
    "\n",
    "print(x)           # print function prints \n",
    "print(f)\n",
    "print(name)\n",
    "\n",
    "combination = name + \" \" + name\n",
    "print(combination)\n",
    "\n",
    "sum = f + f\n",
    "print(sum)"
   ]
  },
  {
   "cell_type": "markdown",
   "id": "4b186740",
   "metadata": {},
   "source": [
    "<hr>"
   ]
  },
  {
   "cell_type": "markdown",
   "id": "08639c2f",
   "metadata": {},
   "source": [
    "### Multiple Assignment\n",
    "* Python allows you to assign a single value to several variables simultaneously. For example −\n"
   ]
  },
  {
   "cell_type": "code",
   "execution_count": 2,
   "id": "796917e0",
   "metadata": {},
   "outputs": [
    {
     "name": "stdout",
     "output_type": "stream",
     "text": [
      "3 3.1415926\n",
      "3.1415926 3.1415926 3.1415926\n"
     ]
    }
   ],
   "source": [
    "print(x,f)\n",
    "new = x = f\n",
    "print(new,x,f)"
   ]
  },
  {
   "cell_type": "markdown",
   "id": "f073f66c",
   "metadata": {},
   "source": [
    "* You can also assign multiple objects to multiple variables. For example −"
   ]
  },
  {
   "cell_type": "code",
   "execution_count": 3,
   "id": "81d18d73",
   "metadata": {},
   "outputs": [
    {
     "name": "stdout",
     "output_type": "stream",
     "text": [
      "1 2 3\n"
     ]
    }
   ],
   "source": [
    "new,x,f = 1,2,3\n",
    "print(new,x,f)"
   ]
  },
  {
   "cell_type": "markdown",
   "id": "25f69066",
   "metadata": {},
   "source": [
    "### Python Numbers\n",
    "\n",
    "| int\t| float\t| complex\n",
    "| ---  | ---   | ----\n",
    "| 10\t| \t0.0|\t3.14j\n",
    "| 100\t| \t15.20\t| 45.j\n",
    "| -786\t\t| -21.9\t|9.322e-36j\n",
    "| 080\t |\t32.3+e18 |\t.876j\n",
    "| -0490 | -90. |\t-.6545+0J\n",
    "| -0x260\t |\t-32.54e100\t| 3e+26J\n",
    "| 0x69\t\t| 70.2-E12 |\t4.53e-7j\n",
    "\n",
    "* int and long were \"unified\" a few versions (less than python 2) back. Before that it was possible to overflow an int through math ops.\n",
    "* A complex number consists of an ordered pair of real floating-point numbers denoted by x + yj, where x and y are the real numbers and j is the imaginary unit."
   ]
  },
  {
   "cell_type": "code",
   "execution_count": 4,
   "id": "5ec993a0",
   "metadata": {},
   "outputs": [
    {
     "name": "stdout",
     "output_type": "stream",
     "text": [
      "10 <class 'int'>\n",
      "10.1 <class 'float'>\n",
      "4503596700943201 <class 'int'>\n",
      "1e+22 <class 'float'>\n"
     ]
    }
   ],
   "source": [
    "a = 10\n",
    "print(a, type(a))\n",
    "\n",
    "a = 10.1\n",
    "print(a, type(a))\n",
    "\n",
    "a = 0xFFFFF51924361\n",
    "print(a,type(a))\n",
    "\n",
    "a = 1e22\n",
    "print(a,type(a))"
   ]
  },
  {
   "cell_type": "markdown",
   "id": "87da664b",
   "metadata": {},
   "source": [
    "### Strings\n",
    "* Strings can be created using ' ' , \" \" , \"\"\" \"\"\" , ''' ''', "
   ]
  },
  {
   "cell_type": "code",
   "execution_count": 5,
   "id": "16d719f2",
   "metadata": {},
   "outputs": [
    {
     "name": "stdout",
     "output_type": "stream",
     "text": [
      "String with the use of Single Quotes: \n",
      "Hi, String with single quotes\n",
      "String with the use of Double Quotes: \n",
      "Learning Python\n",
      "String with the use of Triple Quotes: \n",
      "Its\"Weird\"\n",
      "Creating a multiline String: \n",
      "Multi\n",
      "            line\n",
      "            string\n"
     ]
    }
   ],
   "source": [
    "# Creating a String \n",
    "# with single Quotes\n",
    "string_1 = 'Hi, String with single quotes'\n",
    "print(\"String with the use of Single Quotes: \")\n",
    "print(string_1)\n",
    "  \n",
    "# Creating a String\n",
    "# with double Quotes\n",
    "string_2 = \"Learning Python\"\n",
    "print(\"String with the use of Double Quotes: \")\n",
    "print(string_2)\n",
    "  \n",
    "# Creating a String\n",
    "# with triple Quotes\n",
    "string_3 = '''Its\"Weird\"'''\n",
    "print(\"String with the use of Triple Quotes: \")\n",
    "print(string_3)\n",
    "  \n",
    "# Creating String with triple\n",
    "# Quotes allows multiple lines\n",
    "string_4 = '''Multi\n",
    "            line\n",
    "            string'''\n",
    "print(\"Creating a multiline String: \")\n",
    "print(string_4)"
   ]
  },
  {
   "cell_type": "markdown",
   "id": "477b8923",
   "metadata": {},
   "source": [
    "<hr>\n",
    "\n",
    "* Individual characters of a String can be accessed by using the method of Indexing\n",
    "* Indexing allows negative address references to access characters from the back of the String, e.g. -1 refers to the last character, -2 refers to the second last character and so on."
   ]
  },
  {
   "cell_type": "code",
   "execution_count": 6,
   "id": "cdcd213c",
   "metadata": {},
   "outputs": [
    {
     "name": "stdout",
     "output_type": "stream",
     "text": [
      "Initial String: \n",
      "Hi, String with single quotes\n",
      "\n",
      "First character of String is: \n",
      "H\n",
      "\n",
      "Last character of String is: \n",
      "s\n"
     ]
    }
   ],
   "source": [
    "print(\"Initial String: \")\n",
    "print(string_1)\n",
    "  \n",
    "# Printing First character\n",
    "print()\n",
    "print(\"First character of String is: \")\n",
    "print(string_1[0])\n",
    "  \n",
    "# Printing Last character\n",
    "print()\n",
    "print(\"Last character of String is: \")\n",
    "print(string_1[-1])"
   ]
  },
  {
   "cell_type": "markdown",
   "id": "a101f8c7",
   "metadata": {},
   "source": [
    "### String Slicing\n",
    "* To access a range of characters in the String, method of slicing is used. Slicing in a String is done by using a Slicing operator (colon)."
   ]
  },
  {
   "cell_type": "code",
   "execution_count": 7,
   "id": "c695e36b",
   "metadata": {},
   "outputs": [
    {
     "name": "stdout",
     "output_type": "stream",
     "text": [
      "Initial String: \n",
      "Hi, String with single quotes\n",
      "\n",
      "Slicing characters from 3-12: \n",
      " String w\n",
      "\n",
      "Slicing characters between 3rd and 2nd last character: \n",
      " String with single quot\n"
     ]
    }
   ],
   "source": [
    "print(\"Initial String: \") \n",
    "print(string_1)\n",
    "  \n",
    "# Printing 3rd to 12th character\n",
    "print(\"\\nSlicing characters from 3-12: \")\n",
    "print(string_1[3:12])\n",
    "  \n",
    "# Printing characters between \n",
    "# 3rd and 2nd last character\n",
    "print(\"\\nSlicing characters between \" +\n",
    "    \"3rd and 2nd last character: \")\n",
    "print(string_1[3:-2])"
   ]
  },
  {
   "cell_type": "markdown",
   "id": "d490307b",
   "metadata": {},
   "source": [
    "### Input \n",
    "* Python input() function is used to take the values from the user.\n",
    "* But It always returns the string , so we may need to cast the variable as per our need"
   ]
  },
  {
   "cell_type": "code",
   "execution_count": 2,
   "id": "74c0bf09",
   "metadata": {},
   "outputs": [
    {
     "name": "stdout",
     "output_type": "stream",
     "text": [
      "Enter the name: Shreyas Coder\n",
      "<class 'str'>\n",
      "Enter the number: 69\n",
      "<class 'str'>\n",
      "after casting:  <class 'int'>\n"
     ]
    }
   ],
   "source": [
    "## taking name as input\n",
    "val1 = input(\"Enter the name: \")\n",
    "print(type(val1))\n",
    "\n",
    "## taking number as input\n",
    "val2 = input(\"Enter the number: \")\n",
    "print(type(val2))\n",
    "\n",
    "## casting the val2 into int\n",
    "val2 = int(val2)\n",
    "print(\"after casting: \", type(val2))"
   ]
  },
  {
   "cell_type": "markdown",
   "id": "2182d8fa",
   "metadata": {},
   "source": [
    "### Python Lists\n",
    "* Lists are the most versatile of Python's compound data types. \n",
    "* A list contains items separated by commas and enclosed within square brackets ([]). \n",
    "* To some extent, lists are similar to arrays in C. \n",
    "* One difference between them is that all the items belonging to a list can be of different data type.\n",
    "\n",
    "* The values stored in a list can be accessed using the slice operator ([ ] and [:]) with indexes starting at 0 in the beginning of the list and working their way to end -1. \n",
    "* The plus (+) sign is the list concatenation operator, and the asterisk (*) is the repetition operator. For example −"
   ]
  },
  {
   "cell_type": "code",
   "execution_count": 1,
   "id": "8b568cdf",
   "metadata": {},
   "outputs": [
    {
     "name": "stdout",
     "output_type": "stream",
     "text": [
      "['abcd', 69, 2.23, 'amool', 70.2]\n",
      "abcd\n",
      "[69, 2.23]\n",
      "[2.23, 'amool', 70.2]\n",
      "[6969, 'amoolmacho', 6969, 'amoolmacho']\n",
      "['abcd', 69, 2.23, 'amool', 70.2, 6969, 'amoolmacho']\n"
     ]
    }
   ],
   "source": [
    "list = [ 'abcd', 69 , 2.23, 'amool', 70.2 ]\n",
    "tinylist = [6969, 'amoolmacho']\n",
    "\n",
    "print(list)          # Prints complete list\n",
    "print(list[0])       # Prints first element of the list\n",
    "print(list[1:3])     # Prints elements starting from 2nd till 3rd \n",
    "print(list[2:])      # Prints elements starting from 3rd element\n",
    "print(tinylist * 2 ) # Prints list two times\n",
    "print(list + tinylist) # Prints concatenated lists"
   ]
  },
  {
   "cell_type": "markdown",
   "id": "c0b69b51",
   "metadata": {},
   "source": [
    "### List Slicing\n",
    "* In Python, list slicing is a common practice and it is the most used technique for programmers to solve efficient problems. \n",
    "* Consider a python list, In-order to access a range of elements in a list, you need to slice a list. \n",
    "* One way to do this is to use the simple slicing operator i.e. colon(:)\n",
    "\n",
    "* With this operator, one can specify where to start the slicing, where to end, and specify the step. List slicing returns a new list from the existing list.\n",
    "\n",
    "* It is of the form `Lst[ Initial : End : IndexJump ]`"
   ]
  },
  {
   "cell_type": "code",
   "execution_count": 9,
   "id": "2c74ae48",
   "metadata": {},
   "outputs": [
    {
     "name": "stdout",
     "output_type": "stream",
     "text": [
      "\n",
      "Original List:\n",
      " [-111, 'SRA', 696969, '^_^', 3.1496, 'sdsf', 'egwew', 'ewggrege', 'wgw', 'rwqqgn', 'esge']\n",
      "\n",
      "Sliced Lists: \n",
      "['esge', 'rwqqgn', 'wgw', 'ewggrege', 'egwew', 'sdsf', 3.1496, '^_^', 696969, 'SRA', -111]\n",
      "['esge', 'ewggrege', 3.1496, 'SRA']\n",
      "['esge', 'wgw', 'egwew', 3.1496, 696969]\n",
      "['esge']\n",
      "[]\n",
      "[]\n",
      "[]\n",
      "[-111, 'SRA', 'Yummy', 'Intentions', 'Peaches', '!', 3.1496, 'sdsf', 'egwew', 'ewggrege', 'wgw', 'rwqqgn', 'esge']\n",
      "[3.1496, 'sdsf', 'egwew', 'ewggrege', 'wgw', 'rwqqgn', 'esge']\n"
     ]
    }
   ],
   "source": [
    "\n",
    "# Initialize list\n",
    "List = [-111, 'SRA', 696969, '^_^', 3.1496,\"sdsf\",\"egwew\",\"ewggrege\",\"wgw\",\"rwqqgn\",\"esge\"]\n",
    "  \n",
    "# Show original list\n",
    "print(\"\\nOriginal List:\\n\", List)\n",
    "  \n",
    "print(\"\\nSliced Lists: \")\n",
    "\n",
    "# Display sliced list\n",
    "print(List[::-1])\n",
    "  \n",
    "# Display sliced list\n",
    "print(List[::-3])\n",
    "  \n",
    "# Display sliced list\n",
    "print(List[:1:-2])\n",
    "\n",
    "# Display sliced list\n",
    "print(List[10::2])\n",
    "  \n",
    "# Display sliced list\n",
    "print(List[1:1:1])\n",
    "  \n",
    "# Display sliced list\n",
    "print(List[-1:-1:-1])\n",
    "  \n",
    "# Display sliced list\n",
    "print(List[:0:])\n",
    "\n",
    "# Modified List\n",
    "List[2:4] = ['Yummy', 'Intentions', 'Peaches', '!']\n",
    "  \n",
    "# Display sliced list\n",
    "print(List)\n",
    "  \n",
    "# Modified List\n",
    "List[:6] = []\n",
    "  \n",
    "# Display sliced list\n",
    "print(List)"
   ]
  },
  {
   "cell_type": "markdown",
   "id": "052a34ad",
   "metadata": {},
   "source": [
    "### Python Tuples\n",
    "* A tuple is another sequence data type that is similar to the list. \n",
    "* A tuple consists of a number of values separated by commas. Unlike lists, however, tuples are enclosed within parentheses.\n",
    "\n",
    "* The main differences between lists and tuples are: \n",
    "* Lists are enclosed in brackets  [ ]  and their elements and size can be changed, while tuples are enclosed in parentheses ( )  and cannot be updated. \n",
    "* Tuples can be thought of as read-only lists. \n",
    "* Note tuples are **immutable**"
   ]
  },
  {
   "cell_type": "code",
   "execution_count": 10,
   "id": "8b08c0bc",
   "metadata": {},
   "outputs": [
    {
     "name": "stdout",
     "output_type": "stream",
     "text": [
      "('abcd', 69, 2.23, 'amool', 70.2)\n",
      "abcd\n",
      "(69, 2.23)\n",
      "(2.23, 'amool', 70.2)\n",
      "(6969, 'amoolmacho', 6969, 'amoolmacho')\n",
      "('abcd', 69, 2.23, 'amool', 70.2, 6969, 'amoolmacho')\n"
     ]
    }
   ],
   "source": [
    "tuple = ( 'abcd', 69 , 2.23, 'amool', 70.2 )\n",
    "tinytuple = (6969, 'amoolmacho')\n",
    "\n",
    "print(tuple)          # Prints complete tuple\n",
    "print(tuple[0])       # Prints first element of the tuple\n",
    "print(tuple[1:3])     # Prints elements starting from 2nd till 3rd \n",
    "print(tuple[2:])      # Prints elements starting from 3rd element\n",
    "print(tinytuple * 2 ) # Prints tuple two times\n",
    "print(tuple + tinytuple) # Prints concatenated tuple"
   ]
  },
  {
   "cell_type": "markdown",
   "id": "7d8bd6e9",
   "metadata": {},
   "source": [
    "### Python Dictionary\n",
    "* Python's dictionaries are kind of hash table type. \n",
    "* They work like associative arrays or consist of key-value pairs.\n",
    "* A dictionary key can be almost any Python type, but are usually numbers or strings. Values, on the other hand, can be any arbitrary Python object.\n",
    "\n",
    "* Dictionaries are enclosed by curly braces { } and values can be assigned and accessed using square braces [). For example −"
   ]
  },
  {
   "cell_type": "code",
   "execution_count": 11,
   "id": "b80b4fa0",
   "metadata": {},
   "outputs": [
    {
     "name": "stdout",
     "output_type": "stream",
     "text": [
      "{'key': 'value', 'number': 10, 10: 'number'}\n",
      "value\n",
      "number\n",
      "dict_keys(['key', 'number', 10])\n"
     ]
    }
   ],
   "source": [
    "dic = {\"key\": \"value\", \"number\":10,10:\"number\"}\n",
    "\n",
    "print(dic)                      # prints dictionary\n",
    "\n",
    "print(dic[\"key\"])               # accessing values by keys\n",
    "\n",
    "print(dic[10])                  \n",
    "\n",
    "print(dic.keys())               # getting all the keys in dictionary"
   ]
  },
  {
   "cell_type": "code",
   "execution_count": null,
   "id": "3f9efe65",
   "metadata": {},
   "outputs": [],
   "source": []
  }
 ],
 "metadata": {
  "kernelspec": {
   "display_name": "Python 3",
   "language": "python",
   "name": "python3"
  },
  "language_info": {
   "codemirror_mode": {
    "name": "ipython",
    "version": 3
   },
   "file_extension": ".py",
   "mimetype": "text/x-python",
   "name": "python",
   "nbconvert_exporter": "python",
   "pygments_lexer": "ipython3",
   "version": "3.8.10"
  }
 },
 "nbformat": 4,
 "nbformat_minor": 5
}
