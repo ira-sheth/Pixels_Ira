{
 "cells": [
  {
   "cell_type": "markdown",
   "metadata": {},
   "source": [
    "# Operators"
   ]
  },
  {
   "cell_type": "markdown",
   "metadata": {},
   "source": [
    "### Types of Operators in Python:\n",
    "1. Arithmetic operators\n",
    "2. Assignment operators\n",
    "3. Comparison operators\n",
    "4. Logical operators\n",
    "5. Identity operators\n",
    "6. Membership operators\n",
    "7. Bitwise operators"
   ]
  },
  {
   "cell_type": "markdown",
   "metadata": {},
   "source": [
    "### Arithmetic Operators"
   ]
  },
  {
   "cell_type": "markdown",
   "metadata": {},
   "source": [
    "|Operator|Meaning       |\n",
    "|:------:|-------------:|\n",
    "|1. +    |Addition      | \n",
    "|2. -    |Subtraction   |\n",
    "|3. *    |Multiplication|\n",
    "|4. /    |Division      |\n",
    "|5. %    |Modulus       |\n",
    "|6. **   |Exponentiation|\n",
    "|7. //   |Floor Division|"
   ]
  },
  {
   "cell_type": "code",
   "execution_count": 44,
   "metadata": {},
   "outputs": [
    {
     "name": "stdout",
     "output_type": "stream",
     "text": [
      "Addition  12\n",
      "Subtraction  7\n",
      "Multiplication  56\n",
      "Division  1.1428571428571428\n",
      "Floor division or Integer divison  1\n",
      "Modulus  3\n",
      "Exponentiation  8\n"
     ]
    }
   ],
   "source": [
    "print(\"Addition \",5+7)     \n",
    "print(\"Subtraction \",10 - 3)  \n",
    "print(\"Multiplication \",8*7)    \n",
    "print('Division ', 8/7)     \n",
    "print('Floor division or Integer divison ',8 // 7)  \n",
    "print('Modulus ',31%4)    \n",
    "print('Exponentiation ',2**3)    "
   ]
  },
  {
   "cell_type": "markdown",
   "metadata": {},
   "source": [
    "### Assignment Operators"
   ]
  },
  {
   "cell_type": "markdown",
   "metadata": {},
   "source": [
    "|Expression |Equivalent  |\n",
    "|:----------|-----------:|\n",
    "|1. x=2     |x = 2       | \n",
    "|2. x+=2\t|x = x+2     |\n",
    "|3. x-=2    |x = x - 2   |\n",
    "|4. x*=2    |x = x * 2   |\n",
    "|5. x/=2    |x = x / 2\t |\n",
    "|6. x%=2    |x = x % 2\t |\n",
    "|7. x//=2   |x = x //2   |\n",
    "|8. x**=2   |x = x ** 2  |\n",
    "|9. x&=2    |x = x & 2   |\n",
    "|10. x\\|=2  |x = x \\| 2  |\n",
    "|11. x^=2   |x = x ^ 2   |\n",
    "|12. x>>=2  |x = x >> 2  |\n",
    "|13. x<<=2  |x = x << 2  |"
   ]
  },
  {
   "cell_type": "code",
   "execution_count": 45,
   "metadata": {},
   "outputs": [
    {
     "name": "stdout",
     "output_type": "stream",
     "text": [
      "40\n"
     ]
    }
   ],
   "source": [
    "x=10     # x = 1010(base 2)\n",
    "x<<=2    # 00001010(10) -> 00101000(40)\n",
    "print(x)"
   ]
  },
  {
   "cell_type": "markdown",
   "metadata": {},
   "source": [
    "### Comparison Operators"
   ]
  },
  {
   "cell_type": "markdown",
   "metadata": {},
   "source": [
    "|Operator   |Meaning                  |\n",
    "|:----------|:-----------------------:|\n",
    "|1. ==      | Equal                   | \n",
    "|2. !=      | Not Equal               |\n",
    "|3. >       | Greater than            |\n",
    "|4. <       | Lesser than             |\n",
    "|5. >=      | Greater than OR Equal to|\n",
    "|6. <=      | Lesser than OR Equal to |"
   ]
  },
  {
   "cell_type": "markdown",
   "metadata": {},
   "source": [
    "**import math**\n",
    "\n",
    "import: The import keyword is used to import other modules into a Python script.\n",
    "math: This module provides access to the mathematical functions defined by the C standard.\n",
    "\n",
    "We use the import keyword to import the math module into the namespace of our script. We can then use the functions defined in module using math.function_name(arg(s)) and the mathematical constants by math.constant_name\n",
    "\n",
    "Here we are using math.pi and math.e to reference to the values of the mathematical constants 3.1416.. and 2.71.."
   ]
  },
  {
   "cell_type": "code",
   "execution_count": 46,
   "metadata": {},
   "outputs": [
    {
     "name": "stdout",
     "output_type": "stream",
     "text": [
      "True\n",
      "False\n",
      "False\n",
      "True\n"
     ]
    }
   ],
   "source": [
    "import math\n",
    "print(5==5)\n",
    "print(7<=3)\n",
    "print(\"beagel\"==\"bagel\")\n",
    "print(math.pi > math.e) #3.141.. > 2.718.."
   ]
  },
  {
   "cell_type": "markdown",
   "metadata": {},
   "source": [
    "### Logical Operators"
   ]
  },
  {
   "cell_type": "markdown",
   "metadata": {},
   "source": [
    "|Operator    |Meaning                    |\n",
    "|:-----------|:-------------------------:|\n",
    "|1. and      | both statements T         | \n",
    "|2. or       | Either or Both statement T|\n",
    "|2. not      | Reverses Statement        |"
   ]
  },
  {
   "cell_type": "code",
   "execution_count": 47,
   "metadata": {},
   "outputs": [
    {
     "name": "stdout",
     "output_type": "stream",
     "text": [
      "True\n",
      "True\n",
      "True\n"
     ]
    }
   ],
   "source": [
    "print(1 and True) # 1 = True; 0 = False\n",
    "print(True or 0)\n",
    "print(not False)"
   ]
  },
  {
   "cell_type": "markdown",
   "metadata": {},
   "source": [
    "###  Identity Operators"
   ]
  },
  {
   "cell_type": "markdown",
   "metadata": {},
   "source": [
    "|Operator    |Meaning                       |\n",
    "|:-----------|:----------------------------:|\n",
    "|1. is       | Both vars are same object    | \n",
    "|2. is not   | Both vars are not same object|"
   ]
  },
  {
   "cell_type": "code",
   "execution_count": 48,
   "metadata": {},
   "outputs": [
    {
     "name": "stdout",
     "output_type": "stream",
     "text": [
      "True\n",
      "True\n",
      "False\n",
      "False\n"
     ]
    }
   ],
   "source": [
    "x,y,z = 5,5,10\n",
    "print(x is x)\n",
    "print(x is y)\n",
    "print(x is z)\n",
    "print(x is not y)"
   ]
  },
  {
   "cell_type": "markdown",
   "metadata": {},
   "source": [
    "### Membership Operators"
   ]
  },
  {
   "cell_type": "markdown",
   "metadata": {},
   "source": [
    "|Operator    |Meaning                       |\n",
    "|:-----------|:----------------------------:|\n",
    "|1. in       | value present in sequence    | \n",
    "|2. not in   | value absent in sequence     |"
   ]
  },
  {
   "cell_type": "code",
   "execution_count": 24,
   "metadata": {},
   "outputs": [
    {
     "name": "stdout",
     "output_type": "stream",
     "text": [
      "True\n",
      "False\n",
      "False\n",
      "True\n",
      "True\n"
     ]
    }
   ],
   "source": [
    "list1 = [1,3,2,4,5,6,2,22,[3,4,5]]\n",
    "x,y,z,t = 3,99,[2,4,5],[3,4,5]\n",
    "print(x in list1)\n",
    "print(y in list1)\n",
    "print(z in list1)\n",
    "print(t in list1)\n",
    "print(y not in list1)"
   ]
  },
  {
   "cell_type": "markdown",
   "metadata": {},
   "source": [
    "### Bitwise Operators"
   ]
  },
  {
   "cell_type": "markdown",
   "metadata": {},
   "source": [
    "|Operator   |Meaning                               |\n",
    "|:----------|:------------------------------------:|\n",
    "|1. &       | AND (BOTH 1)                         | \n",
    "|2. \\|      |OR(EITHER OR BOTH 1)                  |\n",
    "|3. ^       |XOR(EITHER 1)                         |\n",
    "|4. ~       |NOT(REVERSE BIT)                      |\n",
    "|5. >>      |SIGNED SHIFT RIGHT(PUSH 0s FROM LEFT) |\n",
    "|6. <<      |SIGNED SHIFT LEFT(PUSH 0s FROM RIGHT) |"
   ]
  },
  {
   "cell_type": "code",
   "execution_count": 27,
   "metadata": {},
   "outputs": [
    {
     "name": "stdout",
     "output_type": "stream",
     "text": [
      "1\n",
      "1\n",
      "1\n"
     ]
    }
   ],
   "source": [
    "print(1 & 1) \n",
    "print((1&1)^(1&0)) # 1 XOR 0\n",
    "print(6>>2) # 110 -> 001"
   ]
  },
  {
   "cell_type": "markdown",
   "metadata": {},
   "source": [
    "# Control Statments"
   ]
  },
  {
   "cell_type": "markdown",
   "metadata": {},
   "source": [
    "### Conditional statement: if elif else"
   ]
  },
  {
   "cell_type": "markdown",
   "metadata": {},
   "source": [
    "#### Syntax:\n",
    "if (condition):<br>\n",
    ">statements<br/>  \n",
    "\n",
    "elif (condition):<br>\n",
    ">statements<br/>    \n",
    "\n",
    ".<br>\n",
    ".<br>\n",
    "\n",
    "elif (condition):<br>\n",
    ">statements<br/> \n",
    "\n",
    "else:<br>\n",
    ">statements<br/> "
   ]
  },
  {
   "cell_type": "code",
   "execution_count": 49,
   "metadata": {},
   "outputs": [
    {
     "name": "stdout",
     "output_type": "stream",
     "text": [
      "a and b are equal\n"
     ]
    }
   ],
   "source": [
    "a,b = 22,22\n",
    "if b > a:\n",
    "  print(\"b is greater than a\")\n",
    "elif a == b:\n",
    "  print(\"a and b are equal\")\n",
    "else:\n",
    "  print(\"a is greater than b\")"
   ]
  },
  {
   "cell_type": "markdown",
   "metadata": {},
   "source": [
    "### Looping Statements"
   ]
  },
  {
   "cell_type": "markdown",
   "metadata": {},
   "source": [
    "1. **for**\n",
    " 1. for in\n",
    " 2. for else\n",
    "\n",
    "2. **while**\n",
    " 1. while\n",
    " 2. while else"
   ]
  },
  {
   "cell_type": "markdown",
   "metadata": {},
   "source": [
    "### Control Statements:"
   ]
  },
  {
   "cell_type": "markdown",
   "metadata": {},
   "source": [
    "1. **break**: It brings control out of the loop\n",
    "2. **continue**: It returns the control to the beginning of the loop\n",
    "3. **pass**: We use pass statement to write empty loops"
   ]
  },
  {
   "cell_type": "markdown",
   "metadata": {},
   "source": [
    "### for loop"
   ]
  },
  {
   "cell_type": "markdown",
   "metadata": {},
   "source": [
    "**for in:** \n",
    "    \n",
    "for iterator_var in sequence:\n",
    ">statements\n",
    "\n",
    "---\n",
    "\n",
    "**for else**\n",
    "\n",
    "for iterator_var in sequence:\n",
    ">statements\n",
    "\n",
    "else: \n",
    ">statements"
   ]
  },
  {
   "cell_type": "code",
   "execution_count": 50,
   "metadata": {},
   "outputs": [
    {
     "name": "stdout",
     "output_type": "stream",
     "text": [
      "apple\n",
      "banana\n"
     ]
    }
   ],
   "source": [
    "fruits = [\"apple\", \"banana\", \"cherry\"]\n",
    "for x in fruits:\n",
    "  print(x)\n",
    "  if x == \"banana\":\n",
    "    break"
   ]
  },
  {
   "cell_type": "code",
   "execution_count": 51,
   "metadata": {},
   "outputs": [
    {
     "name": "stdout",
     "output_type": "stream",
     "text": [
      "loop over\n"
     ]
    }
   ],
   "source": [
    "for x in [0, 1, 2]:\n",
    "  pass\n",
    "print('loop over')"
   ]
  },
  {
   "cell_type": "code",
   "execution_count": 52,
   "metadata": {},
   "outputs": [
    {
     "name": "stdout",
     "output_type": "stream",
     "text": [
      "0\n",
      "1\n",
      "2\n",
      "3\n",
      "Finally finished!\n"
     ]
    }
   ],
   "source": [
    "for x in range(4):\n",
    "  print(x)\n",
    "else:\n",
    "  print(\"Finally finished!\")"
   ]
  },
  {
   "cell_type": "markdown",
   "metadata": {},
   "source": [
    "### while loop"
   ]
  },
  {
   "cell_type": "markdown",
   "metadata": {},
   "source": [
    "**while**\n",
    "\n",
    "while expression:\n",
    ">statement\n",
    "\n",
    "---\n",
    "\n",
    "**while else**\n",
    "\n",
    "while expression:\n",
    ">statement\n",
    "\n",
    "else:\n",
    ">statement"
   ]
  },
  {
   "cell_type": "code",
   "execution_count": 53,
   "metadata": {},
   "outputs": [
    {
     "name": "stdout",
     "output_type": "stream",
     "text": [
      "1\n",
      "2\n",
      "4\n",
      "5\n",
      "6\n"
     ]
    }
   ],
   "source": [
    "i = 0\n",
    "while i < 6:\n",
    "  i += 1\n",
    "  if i == 3:\n",
    "    continue\n",
    "  print(i)"
   ]
  },
  {
   "cell_type": "code",
   "execution_count": 54,
   "metadata": {},
   "outputs": [
    {
     "name": "stdout",
     "output_type": "stream",
     "text": [
      "1\n",
      "2\n",
      "3\n",
      "4\n",
      "5\n",
      "i is no longer less than 6\n"
     ]
    }
   ],
   "source": [
    "i = 1\n",
    "while i < 6:\n",
    "  print(i)\n",
    "  i += 1\n",
    "else:\n",
    "  print(\"i is no longer less than 6\")"
   ]
  }
 ],
 "metadata": {
  "kernelspec": {
   "display_name": "Python 3",
   "language": "python",
   "name": "python3"
  },
  "language_info": {
   "codemirror_mode": {
    "name": "ipython",
    "version": 3
   },
   "file_extension": ".py",
   "mimetype": "text/x-python",
   "name": "python",
   "nbconvert_exporter": "python",
   "pygments_lexer": "ipython3",
   "version": "3.8.10"
  }
 },
 "nbformat": 4,
 "nbformat_minor": 4
}
