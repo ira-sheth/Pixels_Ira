{
 "cells": [
  {
   "cell_type": "markdown",
   "id": "native-senate",
   "metadata": {},
   "source": [
    "# Dictionaries in Python\n",
    "\n",
    "* A dictionary is a collection which is ordered, changeable and does not allow duplicates.\n",
    "\n",
    "* Dictionaries are written with curly brackets, and have keys and values pairs.\n",
    "  \n",
    "### Example :"
   ]
  },
  {
   "cell_type": "code",
   "execution_count": 10,
   "id": "confident-sunglasses",
   "metadata": {},
   "outputs": [
    {
     "name": "stdout",
     "output_type": "stream",
     "text": [
      "{'id': '191022987', 'branch': 'IT', 'grad_year': 2024}\n",
      "Dictionary after adding duplicates\n",
      "{'id': '191022987', 'branch': 'IT', 'grad_year': 2023}\n"
     ]
    }
   ],
   "source": [
    "student = {\n",
    "  \"id\": \"191022987\",\n",
    "  \"branch\": \"IT\",\n",
    "  \"grad_year\":2024 \n",
    "}\n",
    "print(student)\n",
    "\n",
    "#if I add a duplicate value, the duplicate value will overwrite existing value\n",
    "student = {\n",
    "  \"id\": \"191022987\",\n",
    "  \"branch\": \"IT\",\n",
    "  \"grad_year\":2024, \n",
    "  \"grad_year\":2023\n",
    "}\n",
    "print('Dictionary after adding duplicates')\n",
    "print(student)\n",
    "#The new value of grad_year is overwritten "
   ]
  },
  {
   "cell_type": "markdown",
   "id": "rotary-diary",
   "metadata": {},
   "source": [
    "## Accessing Items\n",
    "You can access the items of a dictionary by referring to its key name, inside square brackets or also by a method called `get()`:"
   ]
  },
  {
   "cell_type": "code",
   "execution_count": 11,
   "id": "impossible-parallel",
   "metadata": {},
   "outputs": [
    {
     "name": "stdout",
     "output_type": "stream",
     "text": [
      "191022987\n",
      "191022987\n"
     ]
    }
   ],
   "source": [
    "student = {\n",
    "  \"id\": \"191022987\",\n",
    "  \"branch\": \"IT\",\n",
    "  \"grad_year\":2024 \n",
    "}\n",
    "#get the value of 'id' key\n",
    "student_id=student[\"id\"]\n",
    "print(student_id)\n",
    "# now by get() method\n",
    "student_id=student.get(\"id\")\n",
    "print(student_id)"
   ]
  },
  {
   "cell_type": "markdown",
   "id": "colored-walnut",
   "metadata": {},
   "source": [
    "## Adding and updating a Dictionary\n",
    "* Adding an item to the dictionary is done by using a new index key and assigning a value to it  \n",
    "* The update() method will update the dictionary with the items from a given argument. If the item does not exist, the item will be added."
   ]
  },
  {
   "cell_type": "code",
   "execution_count": 12,
   "id": "flying-czech",
   "metadata": {},
   "outputs": [
    {
     "name": "stdout",
     "output_type": "stream",
     "text": [
      "{'id': '191022987', 'branch': 'IT', 'grad_year': 2024, 'grade': 'BB'}\n",
      "{'id': '191022987', 'branch': 'EXTC', 'grad_year': 2024, 'grade': 'BB'}\n",
      "{'id': '191022987', 'branch': 'EXTC', 'grad_year': 2024, 'grade': 'BB', 'address': 'Mumbai'}\n"
     ]
    }
   ],
   "source": [
    "student = {\n",
    "  \"id\": \"191022987\",\n",
    "  \"branch\": \"IT\",\n",
    "  \"grad_year\":2024 \n",
    "}\n",
    "student[\"grade\"]=\"BB\"\n",
    "print(student)\n",
    "\n",
    "#The branch key already exists after updating it changes to \"EXTC\"\n",
    "student.update({\"branch\":\"EXTC\"})\n",
    "print(student)\n",
    "\n",
    "#The address key doesn't exist so after updating address key is added\n",
    "student.update({\"address\":\"Mumbai\"})\n",
    "print(student)"
   ]
  },
  {
   "cell_type": "markdown",
   "id": "prospective-singing",
   "metadata": {},
   "source": [
    "## Removing Items \n",
    "* The **pop()** method removes the item with the specified key name.\n",
    "* The **popitem()** method removes the last inserted item (in versions before 3.7, a random item is removed instead)\n",
    "* The **del** keyword removes the item with the specified key name.The **del** keyword can also delete the dictionary completely.\n",
    "* The **clear()** method empties the dictionary."
   ]
  },
  {
   "cell_type": "code",
   "execution_count": 13,
   "id": "selective-template",
   "metadata": {},
   "outputs": [
    {
     "name": "stdout",
     "output_type": "stream",
     "text": [
      "{'id': '191022987', 'grad_year': 2024}\n",
      "{'id': '191022987', 'branch': 'IT'}\n",
      "{'id': '191022987', 'grad_year': 2024}\n",
      "{}\n"
     ]
    },
    {
     "ename": "NameError",
     "evalue": "name 'student' is not defined",
     "output_type": "error",
     "traceback": [
      "\u001b[0;31m---------------------------------------------------------------------------\u001b[0m",
      "\u001b[0;31mNameError\u001b[0m                                 Traceback (most recent call last)",
      "\u001b[0;32m<ipython-input-13-9d837ec2ba76>\u001b[0m in \u001b[0;36m<module>\u001b[0;34m\u001b[0m\n\u001b[1;32m     38\u001b[0m \u001b[0;32mdel\u001b[0m \u001b[0mstudent\u001b[0m\u001b[0;34m\u001b[0m\u001b[0;34m\u001b[0m\u001b[0m\n\u001b[1;32m     39\u001b[0m \u001b[0;31m#this will give an error as the dictionary itself is deleted\u001b[0m\u001b[0;34m\u001b[0m\u001b[0;34m\u001b[0m\u001b[0;34m\u001b[0m\u001b[0m\n\u001b[0;32m---> 40\u001b[0;31m \u001b[0mprint\u001b[0m\u001b[0;34m(\u001b[0m\u001b[0mstudent\u001b[0m\u001b[0;34m)\u001b[0m\u001b[0;34m\u001b[0m\u001b[0;34m\u001b[0m\u001b[0m\n\u001b[0m",
      "\u001b[0;31mNameError\u001b[0m: name 'student' is not defined"
     ]
    }
   ],
   "source": [
    "student = {\n",
    "  \"id\": \"191022987\",\n",
    "  \"branch\": \"IT\",\n",
    "  \"grad_year\":2024 \n",
    "}\n",
    "student.pop(\"branch\")\n",
    "print(student)\n",
    "\n",
    "student = {\n",
    "  \"id\": \"191022987\",\n",
    "  \"branch\": \"IT\",\n",
    "  \"grad_year\":2024 \n",
    "}\n",
    "student.popitem()\n",
    "print(student)\n",
    "\n",
    "student = {\n",
    "  \"id\": \"191022987\",\n",
    "  \"branch\": \"IT\",\n",
    "  \"grad_year\":2024 \n",
    "}\n",
    "del student[\"branch\"]\n",
    "print(student)\n",
    "\n",
    "student = {\n",
    "  \"id\": \"191022987\",\n",
    "  \"branch\": \"IT\",\n",
    "  \"grad_year\":2024 \n",
    "}\n",
    "student.clear()\n",
    "print(student)\n",
    "\n",
    "student = {\n",
    "  \"id\": \"191022987\",\n",
    "  \"branch\": \"IT\",\n",
    "  \"grad_year\":2024 \n",
    "}\n",
    "del student\n",
    "#this will give an error as the dictionary itself is deleted\n",
    "print(student)\n"
   ]
  },
  {
   "cell_type": "markdown",
   "id": "improved-committee",
   "metadata": {},
   "source": [
    "## Dictionary key() method\n",
    "The **keys()** method returns a view object. The view object contains the keys of the dictionary, as a list.\n",
    "\n",
    "The view object will reflect any changes done to the dictionary, see example below."
   ]
  },
  {
   "cell_type": "code",
   "execution_count": 14,
   "id": "greenhouse-lottery",
   "metadata": {},
   "outputs": [
    {
     "name": "stdout",
     "output_type": "stream",
     "text": [
      "x before adding item in the dictionary\n",
      "dict_keys(['id', 'branch', 'grad_year'])\n",
      "x after adding item in the dictionary\n",
      "dict_keys(['id', 'branch', 'grad_year', 'grade'])\n"
     ]
    }
   ],
   "source": [
    "# When an item is added in the dictionary, the view object also gets updated:\n",
    "\n",
    "student = {\n",
    "  \"id\": \"191022987\",\n",
    "  \"branch\": \"IT\",\n",
    "  \"grad_year\":2024 \n",
    "}\n",
    "\n",
    "x = student.keys()\n",
    "print(\"x before adding item in the dictionary\")\n",
    "print(x)\n",
    "student[\"grade\"] = \"BB\"\n",
    "print(\"x after adding item in the dictionary\")\n",
    "print(x)"
   ]
  },
  {
   "cell_type": "markdown",
   "id": "demanding-bedroom",
   "metadata": {},
   "source": [
    "## Dictionary values() method\n",
    "The **values()** method returns a view object. The view object contains the values of the dictionary, as a list.\n",
    "\n",
    "The view object will reflect any changes done to the dictionary, see example below."
   ]
  },
  {
   "cell_type": "code",
   "execution_count": 15,
   "id": "noticed-recycling",
   "metadata": {},
   "outputs": [
    {
     "name": "stdout",
     "output_type": "stream",
     "text": [
      "x before changing an item in the dictionary\n",
      "dict_values(['191022987', 'IT', 2024])\n",
      "x after changing an item in the dictionary\n",
      "dict_values(['191022987', 'EXTC', 2024])\n"
     ]
    }
   ],
   "source": [
    "# When a values is changed in the dictionary, the view object also gets updated:\n",
    "\n",
    "student = {\n",
    "  \"id\": \"191022987\",\n",
    "  \"branch\": \"IT\",\n",
    "  \"grad_year\":2024 \n",
    "}\n",
    "\n",
    "x = student.values()\n",
    "print(\"x before changing an item in the dictionary\")\n",
    "print(x)\n",
    "student[\"branch\"] = \"EXTC\"\n",
    "print(\"x after changing an item in the dictionary\")\n",
    "print(x)"
   ]
  },
  {
   "cell_type": "markdown",
   "id": "independent-panama",
   "metadata": {},
   "source": [
    "## Looping through a dictionary\n",
    "You can loop through a dictionary by using a `for` loop.\n",
    "\n",
    "When looping through a dictionary, the return value are the keys of the dictionary, but there are methods to return the values as well."
   ]
  },
  {
   "cell_type": "code",
   "execution_count": 16,
   "id": "stretch-recognition",
   "metadata": {},
   "outputs": [
    {
     "name": "stdout",
     "output_type": "stream",
     "text": [
      "id\n",
      "branch\n",
      "grad_year\n",
      "\n",
      "\n",
      "191022987\n",
      "IT\n",
      "2024\n",
      "\n",
      "\n",
      "191022987\n",
      "IT\n",
      "2024\n",
      "\n",
      "\n",
      "id\n",
      "branch\n",
      "grad_year\n",
      "\n",
      "\n",
      "id 191022987\n",
      "branch IT\n",
      "grad_year 2024\n"
     ]
    }
   ],
   "source": [
    "student = {\n",
    "  \"id\": \"191022987\",\n",
    "  \"branch\": \"IT\",\n",
    "  \"grad_year\":2024 \n",
    "}\n",
    "\n",
    "#Print all key names in the dictionary, one by one:\n",
    "for x in student:\n",
    "  print(x)\n",
    "print(\"\\n\")#line break\n",
    "\n",
    "\n",
    "#Print all values in the dictionary, one by one:\n",
    "for x in student:\n",
    "  print(student[x])\n",
    "print(\"\\n\")#line break\n",
    "\n",
    "\n",
    "#You can also use the values() method to return values of a dictionary:\n",
    "for x in student.values():\n",
    "  print(x)\n",
    "print(\"\\n\")#line break\n",
    "\n",
    "\n",
    "#You can use the keys() method to return the keys of a dictionary:\n",
    "for x in student.keys():\n",
    "  print(x)\n",
    "print(\"\\n\")#line break\n",
    "\n",
    "\n",
    "#Loop through both keys and values, by using the items() method:\n",
    "for x, y in student.items():\n",
    "  print(x, y)"
   ]
  },
  {
   "cell_type": "markdown",
   "id": "paperback-dispatch",
   "metadata": {},
   "source": [
    "## Copying a Dictionary \n",
    "You cannot copy a dictionary simply by typing `dict2` = `dict1`, because: `dict2` will only be a reference to `dict1`, and changes made in `dict1` will automatically also be made in `dict2`.\n",
    "\n",
    "There are ways to make a copy, one way is to use the built-in Dictionary method **copy()**"
   ]
  },
  {
   "cell_type": "code",
   "execution_count": 17,
   "id": "subtle-syntax",
   "metadata": {},
   "outputs": [
    {
     "name": "stdout",
     "output_type": "stream",
     "text": [
      "{'id': '191022987', 'branch': 'IT', 'grad_year': 2024}\n",
      "student {'id': '191022987', 'branch': 'CS', 'grad_year': 2024}\n",
      "st {'id': '191022987', 'branch': 'IT', 'grad_year': 2024}\n"
     ]
    }
   ],
   "source": [
    "student = {\n",
    "  \"id\": \"191022987\",\n",
    "  \"branch\": \"IT\",\n",
    "  \"grad_year\":2024 \n",
    "}\n",
    "st = student.copy()\n",
    "print(st)\n",
    "student[\"branch\"]=\"CS\"\n",
    "print(\"student\",student)\n",
    "\"\"\"In the output below you can see that updating branch key in student dictionary, \n",
    "st dictionary has not changed\"\"\"\n",
    "print(\"st\",st)"
   ]
  },
  {
   "cell_type": "markdown",
   "id": "bright-playing",
   "metadata": {},
   "source": [
    "Another way to make a copy is to use the built-in function **dict()**."
   ]
  },
  {
   "cell_type": "code",
   "execution_count": 18,
   "id": "aware-mobility",
   "metadata": {},
   "outputs": [
    {
     "name": "stdout",
     "output_type": "stream",
     "text": [
      "{'id': '191022987', 'branch': 'IT', 'grad_year': 2024}\n",
      "student {'id': '191022987', 'branch': 'CS', 'grad_year': 2024}\n",
      "st {'id': '191022987', 'branch': 'IT', 'grad_year': 2024}\n"
     ]
    }
   ],
   "source": [
    "student = {\n",
    "  \"id\": \"191022987\",\n",
    "  \"branch\": \"IT\",\n",
    "  \"grad_year\":2024 \n",
    "}\n",
    "st = dict(student)\n",
    "print(st)\n",
    "student[\"branch\"]=\"CS\"\n",
    "print(\"student\",student)\n",
    "\"\"\"In the output below you can see that updating branch key in student dictionary, \n",
    "st dictionary has not changed\"\"\"\n",
    "print(\"st\",st)"
   ]
  },
  {
   "cell_type": "markdown",
   "id": "obvious-painting",
   "metadata": {},
   "source": [
    "## Nested Dictionaries\n",
    "A dictionary can contain dictionaries, this is called nested dictionaries."
   ]
  },
  {
   "cell_type": "code",
   "execution_count": 19,
   "id": "employed-theorem",
   "metadata": {},
   "outputs": [
    {
     "name": "stdout",
     "output_type": "stream",
     "text": [
      "student1 : {'id': '191022987', 'branch': 'IT', 'grad_year': 2024}\n"
     ]
    }
   ],
   "source": [
    "student = {\n",
    "  \"student1\":{\n",
    "    \"id\": \"191022987\",\n",
    "    \"branch\": \"IT\",\n",
    "    \"grad_year\":2024 \n",
    "  },\n",
    "  \"student2\":{\n",
    "    \"id\": \"191022100\",\n",
    "    \"branch\": \"EXTC\",\n",
    "    \"grad_year\":2023 \n",
    "  }\n",
    "}\n",
    "print(\"student1 :\",student[\"student1\"])"
   ]
  },
  {
   "cell_type": "code",
   "execution_count": null,
   "id": "painful-collins",
   "metadata": {},
   "outputs": [],
   "source": []
  }
 ],
 "metadata": {
  "kernelspec": {
   "display_name": "Python 3",
   "language": "python",
   "name": "python3"
  },
  "language_info": {
   "codemirror_mode": {
    "name": "ipython",
    "version": 3
   },
   "file_extension": ".py",
   "mimetype": "text/x-python",
   "name": "python",
   "nbconvert_exporter": "python",
   "pygments_lexer": "ipython3",
   "version": "3.8.10"
  }
 },
 "nbformat": 4,
 "nbformat_minor": 5
}
