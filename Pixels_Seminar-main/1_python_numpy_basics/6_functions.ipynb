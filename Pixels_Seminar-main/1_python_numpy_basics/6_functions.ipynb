{
 "cells": [
  {
   "cell_type": "markdown",
   "id": "b0ca1b19",
   "metadata": {},
   "source": [
    "# Function\n",
    "* A function is a block of code which only runs when it is called.\n",
    "* Functions help break our program into smaller and modular chunks. As our program grows larger and larger, functions make it more organized and manageable.\n",
    "* Furthermore, it avoids repetition and makes the code reusable.\n",
    "* Functions can be both built-in or user-defined.\n",
    "\n",
    "## Syntax Of Function\n",
    "```python\n",
    "def function_name(parameters):\n",
    "\t\"\"\"docstring\"\"\"\n",
    "\tstatement(s)\n",
    "\n",
    "```\n",
    "* Above shown is a function definition that consists of the following components.\n",
    "1. Keyword ```def``` that marks the start of the function header.\n",
    "2. A function name to uniquely identify the function. \n",
    "3. Parameters (arguments) through which we pass values to a function. They are optional.\n",
    "4. A colon (:) to mark the end of the function header.\n",
    "5. Optional documentation string (docstring) to describe what the function does.\n",
    "6. One or more valid python statements that make up the function body. Statements must have the same indentation level\n",
    "7. An optional ```return``` statement to return a value from the function.\n",
    "\n",
    "### Example :- "
   ]
  },
  {
   "cell_type": "code",
   "execution_count": 1,
   "id": "d08853c3",
   "metadata": {},
   "outputs": [
    {
     "name": "stdout",
     "output_type": "stream",
     "text": [
      "Hello from a function\n"
     ]
    }
   ],
   "source": [
    "def my_function():\n",
    "  print(\"Hello from a function\")\n",
    "\n",
    "my_function()"
   ]
  },
  {
   "cell_type": "markdown",
   "id": "919f42a5",
   "metadata": {},
   "source": [
    "## Arguments \n",
    "* Information can be passed into functions as arguments.\n",
    "* Arguments are specified after the function name, inside the parentheses. You can add as many arguments as you want, just separate them with a comma.\n",
    "* The following example has a function with one argument (fname). When the function is called, we pass along a first name, which is used inside the function to print the name in a statement:"
   ]
  },
  {
   "cell_type": "code",
   "execution_count": 3,
   "id": "e9957577",
   "metadata": {},
   "outputs": [
    {
     "name": "stdout",
     "output_type": "stream",
     "text": [
      "Hello ,Aman from the function \n",
      "Hello ,Prathamesh from the function \n",
      "Hello ,Linus from the function \n"
     ]
    }
   ],
   "source": [
    "def my_function(fname):\n",
    "  print(\"Hello ,\"+fname + \" from the function \")\n",
    "\n",
    "my_function(\"Aman\")\n",
    "my_function(\"Prathamesh\")\n",
    "my_function(\"Linus\")"
   ]
  },
  {
   "cell_type": "markdown",
   "id": "80a36980",
   "metadata": {},
   "source": [
    "### Number of Arguments\n",
    "\n",
    "* By default, a function must be called with the correct number of arguments. Meaning that if your function expects 2 arguments, you have to call the function with 2 arguments, not more, and not less.\n",
    "* Example :- "
   ]
  },
  {
   "cell_type": "code",
   "execution_count": 5,
   "id": "0e575d90",
   "metadata": {},
   "outputs": [
    {
     "name": "stdout",
     "output_type": "stream",
     "text": [
      "Linus Torvald\n"
     ]
    }
   ],
   "source": [
    "# The function expects 2 arguments, and gets 2 arguments\n",
    "def my_function(fname, lname):\n",
    "  print(fname + \" \" + lname)\n",
    "\n",
    "my_function(\"Linus\", \"Torvald\")"
   ]
  },
  {
   "cell_type": "code",
   "execution_count": 6,
   "id": "03635d28",
   "metadata": {},
   "outputs": [
    {
     "ename": "TypeError",
     "evalue": "my_function() missing 1 required positional argument: 'lname'",
     "output_type": "error",
     "traceback": [
      "\u001b[0;31m---------------------------------------------------------------------------\u001b[0m",
      "\u001b[0;31mTypeError\u001b[0m                                 Traceback (most recent call last)",
      "\u001b[0;32m<ipython-input-6-2ff17805f565>\u001b[0m in \u001b[0;36m<module>\u001b[0;34m\u001b[0m\n\u001b[1;32m      2\u001b[0m   \u001b[0mprint\u001b[0m\u001b[0;34m(\u001b[0m\u001b[0mfname\u001b[0m \u001b[0;34m+\u001b[0m \u001b[0;34m\" \"\u001b[0m \u001b[0;34m+\u001b[0m \u001b[0mlname\u001b[0m\u001b[0;34m)\u001b[0m\u001b[0;34m\u001b[0m\u001b[0;34m\u001b[0m\u001b[0m\n\u001b[1;32m      3\u001b[0m \u001b[0;34m\u001b[0m\u001b[0m\n\u001b[0;32m----> 4\u001b[0;31m \u001b[0mmy_function\u001b[0m\u001b[0;34m(\u001b[0m\u001b[0;34m\"Linus\"\u001b[0m\u001b[0;34m)\u001b[0m\u001b[0;34m\u001b[0m\u001b[0;34m\u001b[0m\u001b[0m\n\u001b[0m",
      "\u001b[0;31mTypeError\u001b[0m: my_function() missing 1 required positional argument: 'lname'"
     ]
    }
   ],
   "source": [
    "def my_function(fname, lname):\n",
    "  print(fname + \" \" + lname)\n",
    "\n",
    "my_function(\"Linus\")"
   ]
  },
  {
   "cell_type": "markdown",
   "id": "17c2ac9f",
   "metadata": {},
   "source": [
    "### Keyword Arguments\n",
    "* You can also send arguments with the key = value syntax.\n",
    "* This way the order of the arguments does not matter.\n",
    "* In this example , arguments are passed using the keys so the order does not matter :- "
   ]
  },
  {
   "cell_type": "code",
   "execution_count": 8,
   "id": "9528411c",
   "metadata": {},
   "outputs": [
    {
     "name": "stdout",
     "output_type": "stream",
     "text": [
      "The youngest child is Harsh\n"
     ]
    }
   ],
   "source": [
    "def my_function(child3, child2, child1):\n",
    "  print(\"The youngest child is \" + child3)\n",
    "\n",
    "my_function(child1 = \"Dhairya\", child2 = \"Shreyas\", child3 = \"Harsh\")"
   ]
  },
  {
   "cell_type": "markdown",
   "id": "2b2a8d0f",
   "metadata": {},
   "source": [
    "### Arbitrary Arguments, *args\n",
    "* If you do not know how many arguments that will be passed into your function, add a * before the parameter name in the function definition\n",
    "* This way the function will receive a tuple of arguments, and can access the items accordingly:"
   ]
  },
  {
   "cell_type": "code",
   "execution_count": 11,
   "id": "9901dd50",
   "metadata": {},
   "outputs": [
    {
     "name": "stdout",
     "output_type": "stream",
     "text": [
      "The youngest child is Harsh\n"
     ]
    }
   ],
   "source": [
    "# If the number of arguments is unknown, add a * before the parameter name:\n",
    "def my_function(*kids):\n",
    "  print(\"The youngest child is \" + kids[2])\n",
    "\n",
    "my_function(\"Dhairya\", \"Shreyas\", \"Harsh\")"
   ]
  },
  {
   "cell_type": "markdown",
   "id": "02f95c5b",
   "metadata": {},
   "source": [
    "### Arbitrary Keyword Arguments, **kwargs\n",
    "* If you do not know how many keyword arguments that will be passed into your function, add two asterisk: ** before the parameter name in the function definition.\n",
    "* This way the function will receive a dictionary of arguments, and can access the items accordingly\n",
    "* The main difference between args and kwargs is that, args receive tuple as arguments , while kwargs receives dictionary as arguments\n"
   ]
  },
  {
   "cell_type": "code",
   "execution_count": 12,
   "id": "223fc16a",
   "metadata": {},
   "outputs": [
    {
     "name": "stdout",
     "output_type": "stream",
     "text": [
      "His last name is Torwald\n"
     ]
    }
   ],
   "source": [
    "def my_function(**kid):\n",
    "  print(\"His last name is \" + kid[\"lname\"])\n",
    "\n",
    "my_function(fname = \"Linus\", lname = \"Torwald\")"
   ]
  },
  {
   "cell_type": "markdown",
   "id": "aad3a3b5",
   "metadata": {},
   "source": [
    "### Default Parameter Value\n",
    "* The following example shows how to use a default parameter value.\n",
    "* If we call the function without argument, it uses the default value:"
   ]
  },
  {
   "cell_type": "code",
   "execution_count": 13,
   "id": "e5e1cb35",
   "metadata": {
    "scrolled": true
   },
   "outputs": [
    {
     "name": "stdout",
     "output_type": "stream",
     "text": [
      "I am from India\n",
      "I am from USA\n",
      "I am from Japan\n",
      "I am from Australia\n"
     ]
    }
   ],
   "source": [
    "def my_function(country = \"Japan\"):\n",
    "  print(\"I am from \" + country)\n",
    "\n",
    "my_function(\"India\")\n",
    "my_function(\"USA\")\n",
    "my_function()\n",
    "my_function(\"Australia\")"
   ]
  },
  {
   "cell_type": "markdown",
   "id": "b5013c12",
   "metadata": {},
   "source": [
    "### Passing a List as an Argument\n",
    "* You can send any data types of argument to a function (string, number, list, dictionary etc.), and it will be treated as the same data type inside the function.\n",
    "*  if you send a List as an argument, it will still be a List when it reaches the function:"
   ]
  },
  {
   "cell_type": "code",
   "execution_count": 14,
   "id": "3192806d",
   "metadata": {},
   "outputs": [
    {
     "name": "stdout",
     "output_type": "stream",
     "text": [
      "apple\n",
      "banana\n",
      "cherry\n"
     ]
    }
   ],
   "source": [
    "def my_function(food):\n",
    "  for x in food:\n",
    "    print(x)\n",
    "\n",
    "fruits = [\"apple\", \"banana\", \"cherry\"]\n",
    "\n",
    "my_function(fruits)"
   ]
  },
  {
   "cell_type": "markdown",
   "id": "6a2f4d27",
   "metadata": {},
   "source": [
    "## Return Values\n",
    "* To let a function return a value, use the return statement.\n",
    "* Return statement is used to exit from the function.\n",
    "* Example :- "
   ]
  },
  {
   "cell_type": "code",
   "execution_count": 15,
   "id": "01e770da",
   "metadata": {},
   "outputs": [
    {
     "name": "stdout",
     "output_type": "stream",
     "text": [
      "4\n",
      "16\n"
     ]
    }
   ],
   "source": [
    "def square_value(num):\n",
    "    return num**2\n",
    " \n",
    " \n",
    "print(square_value(2))\n",
    " \n",
    "print(square_value(-4))"
   ]
  },
  {
   "cell_type": "markdown",
   "id": "65b9e114",
   "metadata": {},
   "source": [
    "## Recursion\n",
    "* Python also accepts function recursion, which means a defined function can call itself.\n",
    "* Recursion is a common mathematical and programming concept. It means that a function calls itself. This has the benefit of meaning that you can loop through data to reach a result.\n",
    "* The developer should be very careful with recursion as it can be quite easy to slip into writing a function which never terminates, or one that uses excess amounts of memory or processor power. However, when written correctly recursion can be a very efficient and mathematically-elegant approach to programming.\n",
    "* In this example, we will find factorial of a number using recursion :- "
   ]
  },
  {
   "cell_type": "code",
   "execution_count": 17,
   "id": "59023247",
   "metadata": {
    "scrolled": true
   },
   "outputs": [
    {
     "name": "stdout",
     "output_type": "stream",
     "text": [
      "720\n"
     ]
    }
   ],
   "source": [
    "def factorial(num):\n",
    "    if num > 1 :\n",
    "        return num * factorial(num-1)\n",
    "    else :\n",
    "        return 1\n",
    "\n",
    "print(factorial(6))"
   ]
  },
  {
   "cell_type": "markdown",
   "id": "057bf2d1",
   "metadata": {},
   "source": [
    "## Pass by Reference or pass by value? \n",
    "\n",
    "### Mutability\n",
    "* Most python objects (booleans, integers, floats, strings, and tuples) are immutable. This means that after you create the object and assign some value to it, you can’t modify that value.\n",
    "* A mutable object is an object whose value can change.Mutable objects are often objects that can store a collection of data. Lists (Python type list) and dictionaries (Python type dict) are examples of mutable objects.\n"
   ]
  },
  {
   "cell_type": "code",
   "execution_count": 33,
   "id": "2ce08121",
   "metadata": {
    "scrolled": true
   },
   "outputs": [
    {
     "name": "stdout",
     "output_type": "stream",
     "text": [
      "4357527296\n",
      "4357527296\n"
     ]
    }
   ],
   "source": [
    "# since li are mutalbes there id doesn't change\n",
    "a=[1,4]\n",
    "print(id(a))\n",
    "a[0] = 2\n",
    "print(id(a))"
   ]
  },
  {
   "cell_type": "code",
   "execution_count": 30,
   "id": "f1ecb608",
   "metadata": {},
   "outputs": [
    {
     "name": "stdout",
     "output_type": "stream",
     "text": [
      "4323486000\n",
      "4323486064\n"
     ]
    }
   ],
   "source": [
    "# since integers are immutalbes, once we change there values, binding to them is lost id is changed\n",
    "a = 1\n",
    "print(id(a))\n",
    "a = 3\n",
    "print(id(a))"
   ]
  },
  {
   "cell_type": "markdown",
   "id": "976f5560",
   "metadata": {},
   "source": [
    "### Pass by reference \n",
    "\n",
    "* All parameters (arguments) in the Python language are passed by reference.\n",
    "* If you pass immutable arguments like integers, strings or tuples to a function, the passing acts like Call-by-value."
   ]
  },
  {
   "cell_type": "code",
   "execution_count": 18,
   "id": "d36a8d34",
   "metadata": {},
   "outputs": [
    {
     "name": "stdout",
     "output_type": "stream",
     "text": [
      "[20, 11, 12, 13, 14, 15]\n"
     ]
    }
   ],
   "source": [
    "\n",
    "# Here List is mutable hence it is pass by reference\n",
    "def myFun(x):\n",
    "    x[0] = 20\n",
    " \n",
    "\n",
    "lst = [10, 11, 12, 13, 14, 15]\n",
    "myFun(lst)\n",
    "print(lst)"
   ]
  },
  {
   "cell_type": "code",
   "execution_count": 31,
   "id": "8e40321c",
   "metadata": {},
   "outputs": [
    {
     "name": "stdout",
     "output_type": "stream",
     "text": [
      "10\n"
     ]
    }
   ],
   "source": [
    "# Here integer in immutable hence it is passed by value\n",
    "def myFun(x):\n",
    "    x = 20\n",
    " \n",
    " \n",
    "x = 10\n",
    "myFun(x)\n",
    "print(x)"
   ]
  },
  {
   "cell_type": "code",
   "execution_count": 19,
   "id": "3099d979",
   "metadata": {},
   "outputs": [
    {
     "name": "stdout",
     "output_type": "stream",
     "text": [
      "[10, 11, 12, 13, 14, 15]\n"
     ]
    }
   ],
   "source": [
    "# When we pass a reference and change the received reference to something else, \n",
    "# the connection between the passed and received parameter is broken. For example, consider the below program.\n",
    "def myFun(x):\n",
    " \n",
    "    # After below line link of x with previous\n",
    "    # object gets broken. A new object is assigned\n",
    "    # to x.\n",
    "    x = [20, 30, 40]\n",
    " \n",
    "\n",
    "lst = [10, 11, 12, 13, 14, 15]\n",
    "myFun(lst)\n",
    "print(lst)"
   ]
  },
  {
   "cell_type": "markdown",
   "id": "069ab6f4",
   "metadata": {},
   "source": [
    "# Docstrings\n",
    "* The first string after the function header is called the docstring and is short for documentation string. It is briefly used to explain what a function does.\n",
    "* Although optional, documentation is a good programming practice. Unless you can remember what you had for dinner last week, always document your code.\n",
    "* In the above example, we have a docstring immediately below the function header . We generally use triple quotes so that docstring can extend up to multiple lines. This string is available to us as the __doc__ attribute of the function."
   ]
  },
  {
   "cell_type": "code",
   "execution_count": 24,
   "id": "cb8b3e8f",
   "metadata": {},
   "outputs": [
    {
     "name": "stdout",
     "output_type": "stream",
     "text": [
      "\n",
      "    This function greets to\n",
      "    the person passed in as\n",
      "    a parameter\n",
      "    \n"
     ]
    }
   ],
   "source": [
    "def greet(name):\n",
    "    \"\"\"\n",
    "    This function greets to\n",
    "    the person passed in as\n",
    "    a parameter\n",
    "    \"\"\"\n",
    "    print(\"Hello, World\")\n",
    "\n",
    "\n",
    "# To access the documentation of function greet\n",
    "print(greet.__doc__)"
   ]
  },
  {
   "cell_type": "markdown",
   "id": "7eb6fe64",
   "metadata": {},
   "source": [
    "# Lambda Function\n",
    "* In Python, an anonymous function is a function that is defined without a name.\n",
    "* While normal functions are defined using the ```def``` keyword in Python, anonymous functions are defined using the ```lambda``` keyword.\n",
    "* Hence, anonymous functions are also called lambda functions.\n",
    "* In Python, we generally use it as an argument to a higher-order function (a function that takes in other functions as arguments).\n",
    "* Syntax is as follows :- \n",
    "```python\n",
    "lambda arguments: expression\n",
    "```"
   ]
  },
  {
   "cell_type": "code",
   "execution_count": 26,
   "id": "84eb4930",
   "metadata": {},
   "outputs": [
    {
     "name": "stdout",
     "output_type": "stream",
     "text": [
      "10\n"
     ]
    }
   ],
   "source": [
    "# lambda function to calculate double of any number\n",
    "double = lambda x: x * 2\n",
    "\n",
    "print(double(5))"
   ]
  }
 ],
 "metadata": {
  "kernelspec": {
   "display_name": "Python 3",
   "language": "python",
   "name": "python3"
  },
  "language_info": {
   "codemirror_mode": {
    "name": "ipython",
    "version": 3
   },
   "file_extension": ".py",
   "mimetype": "text/x-python",
   "name": "python",
   "nbconvert_exporter": "python",
   "pygments_lexer": "ipython3",
   "version": "3.8.10"
  }
 },
 "nbformat": 4,
 "nbformat_minor": 5
}
