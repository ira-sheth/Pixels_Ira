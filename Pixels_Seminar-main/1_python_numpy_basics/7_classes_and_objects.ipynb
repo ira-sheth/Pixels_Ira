{
 "cells": [
  {
   "cell_type": "markdown",
   "metadata": {},
   "source": [
    "#                       CLASSES AND OBJECTS"
   ]
  },
  {
   "cell_type": "markdown",
   "metadata": {},
   "source": [
    "### A class is a model which helps us to categorise various things(objects) based on their attributes(variables) and different functionalties or habbits(methods)\n",
    "\n",
    "1. A class is a model or plan to create objects. This means, we write a class with the attributes and actions of objects.\n",
    "\n",
    "### A class is a model / blueprint of an object\n",
    "\n",
    "1. Attributes are represented by variables and actions are performed by methods.\n",
    "2. So, a class contains variables(attributes) and methods(functions).\n",
    "3. The same variables and methods are also available in the objects because they are created from the class."
   ]
  },
  {
   "cell_type": "markdown",
   "metadata": {},
   "source": [
    "\n",
    "### An object is the instance of a class\n",
    "\n",
    "1. An object is anything that really exists in the world and can be distinguished from others. \n",
    "2. This definition specifies that everything in this world is an object. For example, a table, a ball, a car, a dog, a person, etc. will come under objects. \n",
    "3. Then what is not an object? If something does not really exist, then it is not an object. For example, our thoughts, imagination, plans, ideas etc. are not objects, because they do not physically exist.\n",
    "4. It is possible that some objects may have similar behavior. Such objects belong to same category called a ‘class’.\n",
    "\n",
    "### eg. Cheetah, Lion, Tiger are different objects of the class Animal\n",
    "### The objects possess different attributes/properties like - \n",
    "- skin_colour\n",
    "- running_speed\n",
    "- species_name\n",
    "- gender\n",
    "- skin_texture\n",
    "- life_span , etc\n",
    "\n",
    "### The objects also possess different methods/functionalties like - \n",
    "- walk\n",
    "- run\n",
    "- roar\n",
    "- sleep\n",
    "-------------------------------------------------------------\n",
    "1. The attributes and methods of the class are together knows as members of the class\n",
    "\n",
    "2. Thus, class provides categorization/ general segmentation of different objects based on attributes and properties that an object can possess in general for e.g. like a blue print of a building.\n",
    "\n",
    "3. objects assign the class attributes and methods with unique values possessed by it. this differentiates it from another object."
   ]
  },
  {
   "cell_type": "markdown",
   "metadata": {},
   "source": [
    "<img src=\"images/classobj.png\">"
   ]
  },
  {
   "cell_type": "markdown",
   "metadata": {},
   "source": [
    "1. The plan or model is called a ‘class’. Following this model, a carpenter makes the table that can be used by us. This table is called an ‘object’. To make the table, we need material, i.e. wood which is an attribute. \n",
    " \n",
    "2. Several objects (tables) can be made from the same class (plan). An object cannot exist without a class. But a class can exist without any object. We can think that a class is a model and if it physically appears, then it becomes an object. So an object is called ‘instance’ (physical form) of a class."
   ]
  },
  {
   "cell_type": "markdown",
   "metadata": {},
   "source": [
    "#### A function written inside a class is called a method. Generally, a method is called using one of the following two ways:\n",
    "\n",
    "- classname.methodname()\n",
    "- instancename.methodname()\n",
    "\n",
    "\n",
    "#### The general format of a class is given as follows:\n",
    "\n",
    "```python\n",
    "# class definition\n",
    "class Classname(object):       \n",
    "     \"\"\" docstring describing the class \"\"\"\n",
    "     #attributes\n",
    "     \n",
    "     #constructor\n",
    "    def __init__(self):\n",
    "     \n",
    "    #class methods/ functions\n",
    "    def method1():\n",
    "        # statements\n",
    "    def method2():\n",
    "        # statements\n",
    "```\n",
    "-----------------------------------------------------------------------------------------------------------------\n",
    "\n",
    "1. This is a special method to initialize the variables.\n",
    "    ```python\n",
    "    def __ init __(self):  \n",
    "    ```\n",
    "\n",
    "2.  -   ``` python\n",
    "        class classname(object):\n",
    "        ```\n",
    "        and\n",
    "\n",
    "    -   ``` python\n",
    "        class classname():\n",
    "        ```\n",
    "    both of them are equivalent. mentioning object in the brackets is not necessary. Each class which is created by a user by default inherits from the object class\n",
    "\n",
    "3. method1() and method2(), etc. are methods that are intended to process variables."
   ]
  },
  {
   "cell_type": "code",
   "execution_count": 1,
   "metadata": {},
   "outputs": [
    {
     "name": "stdout",
     "output_type": "stream",
     "text": [
      "1\n",
      "1\n",
      "1\n",
      "1\n",
      "33\n"
     ]
    }
   ],
   "source": [
    "class Person:\n",
    "    a = 1\n",
    "#     def __init__(self):\n",
    "#         a = 1\n",
    "p = Person()\n",
    "p1 = Person()\n",
    "print(Person.a)\n",
    "print(p.a)\n",
    "print(p1.a)\n",
    "\n",
    "p1.a = 33\n",
    "print(p.a)\n",
    "print(p1.a)"
   ]
  },
  {
   "cell_type": "markdown",
   "metadata": {},
   "source": [
    "<img src=\"images/constructor.png\">"
   ]
  },
  {
   "cell_type": "markdown",
   "metadata": {},
   "source": [
    "<img src=\"images/self.png\">"
   ]
  },
  {
   "cell_type": "markdown",
   "metadata": {},
   "source": [
    "1. Generally, a class name should start with a capital letter.\n",
    "\n",
    "2. __ init __() method is useful to initialize the variables \n",
    "\n",
    "3. ‘self’ is a variable that refers to current class instance.\n",
    "\n",
    "4.  When we create an instance for the Student class, a separate memory block is allocated on the heap and that memory location is by default stored in ‘self’.\n",
    "\n",
    "5. The instance contains the variables ‘name’, ‘age’, ‘marks’ which are called instance variables.\n",
    "\n",
    "6. self is not a keyword, but it is a good practice to use it. It is generally used in case of instance variables and methods i.e they are specific for different objects."
   ]
  },
  {
   "cell_type": "code",
   "execution_count": 2,
   "metadata": {},
   "outputs": [
    {
     "name": "stdout",
     "output_type": "stream",
     "text": [
      "1\n",
      "1\n",
      "1\n",
      "33\n"
     ]
    }
   ],
   "source": [
    "class Person:\n",
    "    def __init__(self):\n",
    "        self.a = 1\n",
    "p = Person()\n",
    "p1 = Person()\n",
    "print(p.a)\n",
    "print(p1.a)\n",
    "\n",
    "p1.a = 33\n",
    "print(p.a)\n",
    "print(p1.a)\n",
    "\n",
    "# print(Person.a)"
   ]
  },
  {
   "cell_type": "code",
   "execution_count": 3,
   "metadata": {},
   "outputs": [],
   "source": [
    "class Student(): #another way is: class Student(object):\n",
    "    #the below block defines attributes\n",
    "    # This is a constructor : we dont need to call this function\n",
    "    def __init__(self):\n",
    "        # attributes / variables\n",
    "        self.name = 'Regina Phalange'\n",
    "        self.age = 30\n",
    "        self.marks = 90\n",
    "        \n",
    "    #the below block defines a method\n",
    "    def talk(d):\n",
    "        print('Hi, I am ', d.name)\n",
    "        print('My age is', d.age)\n",
    "        print('My marks are', d.marks)"
   ]
  },
  {
   "cell_type": "code",
   "execution_count": 4,
   "metadata": {},
   "outputs": [
    {
     "name": "stdout",
     "output_type": "stream",
     "text": [
      "Hi, I am  Regina Phalange\n",
      "My age is 30\n",
      "My marks are 90\n"
     ]
    }
   ],
   "source": [
    "s = Student()\n",
    "s.talk()"
   ]
  },
  {
   "cell_type": "code",
   "execution_count": 5,
   "metadata": {},
   "outputs": [],
   "source": [
    "# creating an object of the class\n",
    "s1 = Student()\n",
    "# now s has attributes name, age and marks, we dont have to call init"
   ]
  },
  {
   "cell_type": "code",
   "execution_count": 6,
   "metadata": {},
   "outputs": [
    {
     "name": "stdout",
     "output_type": "stream",
     "text": [
      "Hi, I am  Regina Phalange\n",
      "My age is 30\n",
      "My marks are 90\n"
     ]
    }
   ],
   "source": [
    "# calling talk() function\n",
    "s1.talk()"
   ]
  },
  {
   "cell_type": "code",
   "execution_count": 7,
   "metadata": {},
   "outputs": [
    {
     "data": {
      "text/plain": [
       "'Regina Phalange'"
      ]
     },
     "execution_count": 7,
     "metadata": {},
     "output_type": "execute_result"
    }
   ],
   "source": [
    "# can access attribute via objectname.attribute\n",
    "s1.name"
   ]
  },
  {
   "cell_type": "code",
   "execution_count": 8,
   "metadata": {},
   "outputs": [
    {
     "name": "stdout",
     "output_type": "stream",
     "text": [
      "Regina Phalange\n"
     ]
    }
   ],
   "source": [
    "print(s1.name)"
   ]
  },
  {
   "cell_type": "code",
   "execution_count": 9,
   "metadata": {},
   "outputs": [
    {
     "data": {
      "text/plain": [
       "30"
      ]
     },
     "execution_count": 9,
     "metadata": {},
     "output_type": "execute_result"
    }
   ],
   "source": [
    "s1.age"
   ]
  },
  {
   "cell_type": "code",
   "execution_count": 10,
   "metadata": {},
   "outputs": [
    {
     "data": {
      "text/plain": [
       "90"
      ]
     },
     "execution_count": 10,
     "metadata": {},
     "output_type": "execute_result"
    }
   ],
   "source": [
    "s1.marks"
   ]
  },
  {
   "cell_type": "code",
   "execution_count": null,
   "metadata": {},
   "outputs": [],
   "source": []
  },
  {
   "cell_type": "markdown",
   "metadata": {},
   "source": [
    "![](\"file:///home/djshah11/Pictures/Screenshot%20from%202021-05-16%2023-30-24.png![image.png](attachment:image.png)\")"
   ]
  },
  {
   "cell_type": "code",
   "execution_count": 11,
   "metadata": {},
   "outputs": [
    {
     "name": "stdout",
     "output_type": "stream",
     "text": [
      "Hi, I am  Regina Phalange\n",
      "My age is 30\n",
      "My marks are 90\n"
     ]
    }
   ],
   "source": [
    "# can create as many objects as we want -> variable name should be different\n",
    "s2 = Student()\n",
    "s2.talk()"
   ]
  },
  {
   "cell_type": "code",
   "execution_count": 12,
   "metadata": {},
   "outputs": [
    {
     "name": "stdout",
     "output_type": "stream",
     "text": [
      "False\n",
      "139663750073792\n",
      "139663750073744\n"
     ]
    }
   ],
   "source": [
    "s3 = Student()\n",
    "s4 = Student()\n",
    "# both objects have same values for attributes, are they equal? NO as they have different memories, addresses\n",
    "print(s3 == s4)\n",
    "print(id(s3))\n",
    "print(id(s4))"
   ]
  },
  {
   "cell_type": "code",
   "execution_count": 13,
   "metadata": {},
   "outputs": [],
   "source": [
    "# changing s2 objects attributes\n",
    "s2.name = \"Ken Adams\""
   ]
  },
  {
   "cell_type": "code",
   "execution_count": 14,
   "metadata": {},
   "outputs": [],
   "source": [
    "s2.age = 35"
   ]
  },
  {
   "cell_type": "code",
   "execution_count": 15,
   "metadata": {},
   "outputs": [],
   "source": [
    "s2.marks = 55"
   ]
  },
  {
   "cell_type": "code",
   "execution_count": 16,
   "metadata": {},
   "outputs": [
    {
     "name": "stdout",
     "output_type": "stream",
     "text": [
      "Hi, I am  Ken Adams\n",
      "My age is 35\n",
      "My marks are 55\n"
     ]
    }
   ],
   "source": [
    "s2.talk()"
   ]
  },
  {
   "cell_type": "code",
   "execution_count": 17,
   "metadata": {},
   "outputs": [
    {
     "name": "stdout",
     "output_type": "stream",
     "text": [
      "Hi, I am  Regina Phalange\n",
      "My age is 30\n",
      "My marks are 90\n"
     ]
    }
   ],
   "source": [
    "s1.talk()"
   ]
  },
  {
   "cell_type": "markdown",
   "metadata": {},
   "source": [
    "![](\"/images/self.png\")"
   ]
  },
  {
   "cell_type": "markdown",
   "metadata": {},
   "source": [
    "<img src=\"images/object.png\">"
   ]
  },
  {
   "cell_type": "code",
   "execution_count": 18,
   "metadata": {},
   "outputs": [],
   "source": [
    "# another example\n",
    "import math\n",
    "class Circle:\n",
    "    def __init__(self, radius):\n",
    "        self.radius = radius\n",
    "        \n",
    "    def area(self):\n",
    "        return (math.pi)*(self.radius)**2\n",
    "    \n",
    "    def perimeter(self):\n",
    "        return 2*(math.pi)*(self.radius)\n",
    "    \n",
    "    def printer(self):\n",
    "        print(\"the radius of the circle is    :\", self.radius)\n",
    "        print(\"the area of the circle is      :\", self.area())\n",
    "        print(\"the perimeter of the circle is :\", self.perimeter())\n",
    "        "
   ]
  },
  {
   "cell_type": "code",
   "execution_count": 19,
   "metadata": {},
   "outputs": [],
   "source": [
    "c = Circle(5)"
   ]
  },
  {
   "cell_type": "code",
   "execution_count": 20,
   "metadata": {},
   "outputs": [
    {
     "name": "stdout",
     "output_type": "stream",
     "text": [
      "the radius of the circle is    : 5\n",
      "the area of the circle is      : 78.53981633974483\n",
      "the perimeter of the circle is : 31.41592653589793\n"
     ]
    }
   ],
   "source": [
    "c.printer()"
   ]
  },
  {
   "cell_type": "code",
   "execution_count": 21,
   "metadata": {},
   "outputs": [
    {
     "data": {
      "text/plain": [
       "78.53981633974483"
      ]
     },
     "execution_count": 21,
     "metadata": {},
     "output_type": "execute_result"
    }
   ],
   "source": [
    "c.area()"
   ]
  },
  {
   "cell_type": "code",
   "execution_count": 22,
   "metadata": {},
   "outputs": [
    {
     "data": {
      "text/plain": [
       "31.41592653589793"
      ]
     },
     "execution_count": 22,
     "metadata": {},
     "output_type": "execute_result"
    }
   ],
   "source": [
    "c.perimeter()"
   ]
  },
  {
   "cell_type": "code",
   "execution_count": 23,
   "metadata": {},
   "outputs": [
    {
     "name": "stdout",
     "output_type": "stream",
     "text": [
      "Enter Seating Capacity of the Bus: 10\n",
      "total fare:  1000\n"
     ]
    }
   ],
   "source": [
    "# another example: assume that fare = no of seats x 100\n",
    "# Bus Class\n",
    "class Bus:\n",
    "    def __init__(self, seating_capacity):\n",
    "        \"\"\"\n",
    "        Constructor for Bus class taking the seating capacity(seating_capacity) of the Bus\n",
    "        as an argument and assigning this value to an instance variable belonging to a specific object.\n",
    "        This function automatically runs each time a Bus class object is created. \n",
    "        \"\"\"\n",
    "        self.seating_capacity = seating_capacity\n",
    "        \n",
    "    def fare(self):\n",
    "        \"\"\"\n",
    "        This function calculates the default total fare as per the basic formula based on number of seats.\n",
    "        Default Total Fare = No of seats x 100 \n",
    "        \"\"\"\n",
    "        self.total_fare = 100*self.seating_capacity\n",
    "        return self.total_fare\n",
    "\n",
    "# taking user input for number of seats\n",
    "n = int(input(\"Enter Seating Capacity of the Bus: \"))  \n",
    "\n",
    "# creating instance of Bus class with n number of seats\n",
    "b = Bus(n)\n",
    "\n",
    "# calculating and printing total fare by calling the fare method in Bus Class\n",
    "# a = b.fare()\n",
    "# print(\"total fare = \",a)\n",
    "\n",
    "print(\"total fare: \", b.fare())"
   ]
  },
  {
   "cell_type": "code",
   "execution_count": null,
   "metadata": {},
   "outputs": [],
   "source": []
  }
 ],
 "metadata": {
  "kernelspec": {
   "display_name": "Python 3",
   "language": "python",
   "name": "python3"
  },
  "language_info": {
   "codemirror_mode": {
    "name": "ipython",
    "version": 3
   },
   "file_extension": ".py",
   "mimetype": "text/x-python",
   "name": "python",
   "nbconvert_exporter": "python",
   "pygments_lexer": "ipython3",
   "version": "3.8.3"
  }
 },
 "nbformat": 4,
 "nbformat_minor": 4
}
