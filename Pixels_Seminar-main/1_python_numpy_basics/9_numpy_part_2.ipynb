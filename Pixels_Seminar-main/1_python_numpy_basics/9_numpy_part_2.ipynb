{
 "cells": [
  {
   "cell_type": "markdown",
   "metadata": {
    "id": "5v8q3xmAb53k"
   },
   "source": [
    "### Importing NumPy"
   ]
  },
  {
   "cell_type": "code",
   "execution_count": 1,
   "metadata": {
    "id": "jlyF-0QBI7_p"
   },
   "outputs": [],
   "source": [
    "import numpy as np"
   ]
  },
  {
   "cell_type": "markdown",
   "metadata": {
    "id": "lzn4Cg5RGuHK"
   },
   "source": [
    "## Array Math"
   ]
  },
  {
   "cell_type": "markdown",
   "metadata": {
    "id": "s3Hix3JCdj-m"
   },
   "source": [
    "### Functions Used in this Section\n",
    "\n",
    "| Function     | Description/Use | Parameter(s) | Return Value(s) |\n",
    "| ----------- | ----------- | ----------- | ----------- |\n",
    "| numpy.array_equal(a1, a2, equal_nan=False)      |   Checks the equality of two arrays   | a1, a2 = Arrays to be compared;<br> equal_nan = Decides whether to compare NaNs as equal       | True if two arrays have the same shape and elements, <br>False otherwise       |\n",
    "| numpy.sin(x)   | Calculates element-wise trigonometric sine       | x is the array      | Array of sine of each element  |\n",
    "| numpy.log(x)   | Calculates element-wise natural logarithm       | x is the array      | Array of natural logarithm of each element  |\n",
    "| numpy.exp(x)   | Calculates element-wise exponential       | x is the array      | Array of exponential of each element  |\n",
    "| numpy.sqrt(x)   | Calculates element-wise non-negative square root       | x is the array      | Array of positive square root of each element  |\n",
    "| numpy.cos(x)   | Calculates element-wise trigonometric cosine       | x is the array      | Array of cosine of each element  |\n",
    "| numpy.isnan(x)   | Checks for NaN element-wise       | x is the array      | Boolean array : For each element, if it is NaN, then True, else False  |\n",
    "| numpy.reshape(a, newshape)   | Gives a new shape to an array without changing its data      | a = Array;<br> newshape = Shape tuple      | Reshaped array  |\n",
    "| numpy.ravel(a)   | Returns a contiguous flattened array     | a = Array     | A 1-D array containing the elements of the input |\n",
    "| numpy.resize(a, newshape)   | Returns a new array with the specified shape.<br>If the new array is larger than the original array,<br> then the new array is filled with repeated copies of a.<br> Note that this behavior is different from a.resize(new_shape)<br> which fills with zeros instead of repeated copies of a.     | a = Array;<br> newshape = Shape tuple     | Array with the specified shape |\n",
    "| numpy.transpose(a, axes=None)   | Reverses or permutes the axes of an array; returns the modified array       | a = Array;<br> axes = Tuple/list of axes to be reversed/permutated      | a with its axes permuted  |\n",
    "| numpy.sum(a, axis=None)   | Calculates sum of array elements over a given axis       | a = Array;<br> axes = Tuple of axis or axes along which a sum is performed     | Array of sums with the same shape as a,<br> with the specified axis removed  |\n",
    "| numpy.dot(a, b)   | Calculates dot product of two arrays      | a, b = Arrays     | Returns the dot product of a and b<br> If a and b are both scalars<br> or both 1-D arrays then a scalar is returned;<br> otherwise an array is returned  |\n",
    "| ndarray.min(axis=None)   | Calculates the minimum along a given axis       | axis = Axis along which minimum is to be found     | The minimum value along a given axis  |\n",
    "| ndarray.max(axis=None)   | Calculates the maximum along a given axis       | axis = Axis along which maximum is to be found     | The maximum value along a given axis  |\n",
    "| numpy.mean(a, axis=None) | Computes the arithmetic mean along the specified axis | a = Array;<br> axis = Axis or axes along which the means are computed | Array containing the mean values |\n",
    "| numpy.median(a, axis=None) | Computes the median along the specified axis | a = Array;<br> axis = Axis or axes along which the medians are computed | Array containing the median values |\n",
    "| numpy.std(a, axis=None) | Computes the standard deviation along the specified axis | a = Array;<br> axis = Axis or axes along which the standard deviations are computed | Array containing the standard deviation |\n",
    "| numpy.sort(a, axis=-1) | Sorts the array | a = Array;<br> axis = Axis along which to sort | Sorted copy of array  |"
   ]
  },
  {
   "cell_type": "markdown",
   "metadata": {
    "id": "ATl2Vg7JIqbf"
   },
   "source": [
    "### Numerical Operations on Arrays"
   ]
  },
  {
   "cell_type": "markdown",
   "metadata": {
    "id": "8b__m7EAPYQe"
   },
   "source": [
    "Element-wise operation is performed."
   ]
  },
  {
   "cell_type": "markdown",
   "metadata": {
    "id": "nDpsHSEYcGM2"
   },
   "source": [
    "#### Creating NumPy arrays a and b"
   ]
  },
  {
   "cell_type": "code",
   "execution_count": 2,
   "metadata": {
    "id": "KKWa4KVAGWqB"
   },
   "outputs": [],
   "source": [
    "a = np.array([1, 2, 3, 4])\n",
    "b = np.array([3, 5, 1, 6])"
   ]
  },
  {
   "cell_type": "markdown",
   "metadata": {
    "id": "6J4H8u5LcPID"
   },
   "source": [
    "#### Element-wise Operations"
   ]
  },
  {
   "cell_type": "code",
   "execution_count": 3,
   "metadata": {
    "colab": {
     "base_uri": "https://localhost:8080/"
    },
    "id": "9qx-pM4rJFaF",
    "outputId": "0f780f07-dd66-4374-bce6-cc1072a95123"
   },
   "outputs": [
    {
     "data": {
      "text/plain": [
       "array([2, 3, 4, 5])"
      ]
     },
     "execution_count": 3,
     "metadata": {
      "tags": []
     },
     "output_type": "execute_result"
    }
   ],
   "source": [
    "a + 1"
   ]
  },
  {
   "cell_type": "code",
   "execution_count": 4,
   "metadata": {
    "colab": {
     "base_uri": "https://localhost:8080/"
    },
    "id": "uypIDilxJItu",
    "outputId": "8e12891d-daae-4039-db08-aefba9d2007f"
   },
   "outputs": [
    {
     "data": {
      "text/plain": [
       "array([ 5, 10, 15, 20])"
      ]
     },
     "execution_count": 4,
     "metadata": {
      "tags": []
     },
     "output_type": "execute_result"
    }
   ],
   "source": [
    "a * 5"
   ]
  },
  {
   "cell_type": "code",
   "execution_count": 5,
   "metadata": {
    "colab": {
     "base_uri": "https://localhost:8080/"
    },
    "id": "2thfserOJKZd",
    "outputId": "167793ca-85fa-4403-db82-70f1bff4db72"
   },
   "outputs": [
    {
     "data": {
      "text/plain": [
       "array([ 3,  9, 27, 81])"
      ]
     },
     "execution_count": 5,
     "metadata": {
      "tags": []
     },
     "output_type": "execute_result"
    }
   ],
   "source": [
    "3**a"
   ]
  },
  {
   "cell_type": "code",
   "execution_count": 6,
   "metadata": {
    "colab": {
     "base_uri": "https://localhost:8080/"
    },
    "id": "9JWK8WyEJe0A",
    "outputId": "74dad37d-e059-4a31-fc89-7f170d62a275"
   },
   "outputs": [
    {
     "data": {
      "text/plain": [
       "array([-2, -3,  2, -2])"
      ]
     },
     "execution_count": 6,
     "metadata": {
      "tags": []
     },
     "output_type": "execute_result"
    }
   ],
   "source": [
    "a - b"
   ]
  },
  {
   "cell_type": "code",
   "execution_count": 7,
   "metadata": {
    "colab": {
     "base_uri": "https://localhost:8080/"
    },
    "id": "034DEP5QJnYq",
    "outputId": "648ed564-92a8-4597-b202-9c3d4eef1a00"
   },
   "outputs": [
    {
     "data": {
      "text/plain": [
       "array([ 3, 10,  3, 24])"
      ]
     },
     "execution_count": 7,
     "metadata": {
      "tags": []
     },
     "output_type": "execute_result"
    }
   ],
   "source": [
    "a * b"
   ]
  },
  {
   "cell_type": "code",
   "execution_count": 8,
   "metadata": {
    "colab": {
     "base_uri": "https://localhost:8080/"
    },
    "id": "BLBotGTvJyyS",
    "outputId": "d29b2f43-38b3-4af1-e68f-8f5d351870b7"
   },
   "outputs": [
    {
     "data": {
      "text/plain": [
       "array([False, False,  True, False])"
      ]
     },
     "execution_count": 8,
     "metadata": {
      "tags": []
     },
     "output_type": "execute_result"
    }
   ],
   "source": [
    "a > b"
   ]
  },
  {
   "cell_type": "code",
   "execution_count": 9,
   "metadata": {
    "colab": {
     "base_uri": "https://localhost:8080/"
    },
    "id": "0ICJXjlvM8Y3",
    "outputId": "bd674c22-add0-4f66-e47c-8ee0a58918ae"
   },
   "outputs": [
    {
     "data": {
      "text/plain": [
       "array([ 4,  7,  4, 10])"
      ]
     },
     "execution_count": 9,
     "metadata": {
      "tags": []
     },
     "output_type": "execute_result"
    }
   ],
   "source": [
    "a += b\n",
    "a"
   ]
  },
  {
   "cell_type": "markdown",
   "metadata": {
    "id": "dRFaKA4IPdSH"
   },
   "source": [
    "To compare the whole array for equality, use array_equal()."
   ]
  },
  {
   "cell_type": "code",
   "execution_count": 10,
   "metadata": {
    "colab": {
     "base_uri": "https://localhost:8080/"
    },
    "id": "Rm1I_Mf6J5Lu",
    "outputId": "f116061c-0df7-40db-c401-17aac3427201"
   },
   "outputs": [
    {
     "data": {
      "text/plain": [
       "False"
      ]
     },
     "execution_count": 10,
     "metadata": {
      "tags": []
     },
     "output_type": "execute_result"
    }
   ],
   "source": [
    "np.array_equal(a, b)"
   ]
  },
  {
   "cell_type": "markdown",
   "metadata": {
    "id": "XKax43l5cw5j"
   },
   "source": [
    "#### Mathematical Functions"
   ]
  },
  {
   "cell_type": "markdown",
   "metadata": {
    "id": "tVB3UbnEPwyV"
   },
   "source": [
    "Mathematical functions work on each element."
   ]
  },
  {
   "cell_type": "code",
   "execution_count": 11,
   "metadata": {
    "colab": {
     "base_uri": "https://localhost:8080/"
    },
    "id": "cCQZp7RoKCvm",
    "outputId": "7f074776-2da7-4630-fa68-2f7cd4ea8d80"
   },
   "outputs": [
    {
     "data": {
      "text/plain": [
       "array([-0.7568025 ,  0.6569866 , -0.7568025 , -0.54402111])"
      ]
     },
     "execution_count": 11,
     "metadata": {
      "tags": []
     },
     "output_type": "execute_result"
    }
   ],
   "source": [
    "np.sin(a)"
   ]
  },
  {
   "cell_type": "code",
   "execution_count": 12,
   "metadata": {
    "colab": {
     "base_uri": "https://localhost:8080/"
    },
    "id": "qnR1fbWJKD_G",
    "outputId": "c5be4ee5-e177-467a-bbba-926e25b34033"
   },
   "outputs": [
    {
     "data": {
      "text/plain": [
       "array([1.38629436, 1.94591015, 1.38629436, 2.30258509])"
      ]
     },
     "execution_count": 12,
     "metadata": {
      "tags": []
     },
     "output_type": "execute_result"
    }
   ],
   "source": [
    "np.log(a)"
   ]
  },
  {
   "cell_type": "code",
   "execution_count": 13,
   "metadata": {
    "colab": {
     "base_uri": "https://localhost:8080/"
    },
    "id": "Q9vGxNSHKFRr",
    "outputId": "1da9089c-4c4b-4320-8359-5925d8d60f01"
   },
   "outputs": [
    {
     "data": {
      "text/plain": [
       "array([   54.59815003,  1096.63315843,    54.59815003, 22026.46579481])"
      ]
     },
     "execution_count": 13,
     "metadata": {
      "tags": []
     },
     "output_type": "execute_result"
    }
   ],
   "source": [
    "np.exp(a)"
   ]
  },
  {
   "cell_type": "code",
   "execution_count": 14,
   "metadata": {
    "colab": {
     "base_uri": "https://localhost:8080/"
    },
    "id": "b5Vu7_o3LOD2",
    "outputId": "1449e740-74ae-439f-b561-60127a7830ac"
   },
   "outputs": [
    {
     "data": {
      "text/plain": [
       "array([2.        , 2.64575131, 2.        , 3.16227766])"
      ]
     },
     "execution_count": 14,
     "metadata": {
      "tags": []
     },
     "output_type": "execute_result"
    }
   ],
   "source": [
    "np.sqrt(a)"
   ]
  },
  {
   "cell_type": "code",
   "execution_count": 15,
   "metadata": {
    "colab": {
     "base_uri": "https://localhost:8080/"
    },
    "id": "ZIwK6CcpLPV_",
    "outputId": "1055aa09-3b08-4d77-ff7a-b0fa7cc137c6"
   },
   "outputs": [
    {
     "data": {
      "text/plain": [
       "array([-0.65364362,  0.75390225, -0.65364362, -0.83907153])"
      ]
     },
     "execution_count": 15,
     "metadata": {
      "tags": []
     },
     "output_type": "execute_result"
    }
   ],
   "source": [
    "np.cos(a)"
   ]
  },
  {
   "cell_type": "code",
   "execution_count": 16,
   "metadata": {
    "colab": {
     "base_uri": "https://localhost:8080/"
    },
    "id": "x1C1f4dLLQuK",
    "outputId": "0d41a84a-7946-48e1-cde5-7a953c03df59"
   },
   "outputs": [
    {
     "data": {
      "text/plain": [
       "array([False, False, False, False])"
      ]
     },
     "execution_count": 16,
     "metadata": {
      "tags": []
     },
     "output_type": "execute_result"
    }
   ],
   "source": [
    "np.isnan(a)"
   ]
  },
  {
   "cell_type": "markdown",
   "metadata": {
    "id": "ggv9-h6EP-8k"
   },
   "source": [
    "### Array Attributes"
   ]
  },
  {
   "cell_type": "code",
   "execution_count": 17,
   "metadata": {
    "colab": {
     "base_uri": "https://localhost:8080/"
    },
    "id": "VfRrPLrKLkBJ",
    "outputId": "c522e79b-d29d-4626-a125-7a4e843bea1b"
   },
   "outputs": [
    {
     "name": "stdout",
     "output_type": "stream",
     "text": [
      "1\n",
      "(4,)\n",
      "int64\n"
     ]
    }
   ],
   "source": [
    "print(a.ndim) # Prints the number of dimensions\n",
    "print(a.shape) # Prints the shape\n",
    "print(a.dtype) # Prints the datatype"
   ]
  },
  {
   "cell_type": "markdown",
   "metadata": {
    "id": "5uQaMX2kQIYt"
   },
   "source": [
    "### Reshaping Arrays"
   ]
  },
  {
   "cell_type": "code",
   "execution_count": 18,
   "metadata": {
    "colab": {
     "base_uri": "https://localhost:8080/"
    },
    "id": "KEut9HqaLGba",
    "outputId": "2858c6f3-f2b0-4684-b1ea-77a694a87811"
   },
   "outputs": [
    {
     "data": {
      "text/plain": [
       "array([[ 4,  7],\n",
       "       [ 4, 10]])"
      ]
     },
     "execution_count": 18,
     "metadata": {
      "tags": []
     },
     "output_type": "execute_result"
    }
   ],
   "source": [
    "a.reshape(2,-1) # Reshape array into a matrix with 2 rows"
   ]
  },
  {
   "cell_type": "code",
   "execution_count": 19,
   "metadata": {
    "id": "GeogZWXkL8i-"
   },
   "outputs": [],
   "source": [
    "c = np.array([[1, 2, 3, 4], [4, 5, 6, -1], [7, 8, 9, 12]])"
   ]
  },
  {
   "cell_type": "code",
   "execution_count": 20,
   "metadata": {
    "colab": {
     "base_uri": "https://localhost:8080/"
    },
    "id": "Up7e2HUnMGb1",
    "outputId": "8683e0ac-f821-42ac-9456-ebdf0870dd38"
   },
   "outputs": [
    {
     "data": {
      "text/plain": [
       "array([[ 1,  2],\n",
       "       [ 3,  4],\n",
       "       [ 4,  5],\n",
       "       [ 6, -1],\n",
       "       [ 7,  8],\n",
       "       [ 9, 12]])"
      ]
     },
     "execution_count": 20,
     "metadata": {
      "tags": []
     },
     "output_type": "execute_result"
    }
   ],
   "source": [
    "c.reshape(6, 2) # Reshape array into a matrix of size 6 x 2"
   ]
  },
  {
   "cell_type": "code",
   "execution_count": 21,
   "metadata": {
    "colab": {
     "base_uri": "https://localhost:8080/"
    },
    "id": "K2S7KzWoMd-0",
    "outputId": "704dbb82-ba5e-4c7d-a26b-602700a8e740"
   },
   "outputs": [
    {
     "data": {
      "text/plain": [
       "array([ 1,  2,  3,  4,  4,  5,  6, -1,  7,  8,  9, 12])"
      ]
     },
     "execution_count": 21,
     "metadata": {
      "tags": []
     },
     "output_type": "execute_result"
    }
   ],
   "source": [
    "c.ravel() # To give a contiguous flattened array"
   ]
  },
  {
   "cell_type": "code",
   "execution_count": 22,
   "metadata": {
    "colab": {
     "base_uri": "https://localhost:8080/"
    },
    "id": "X1iQTcaoNhKK",
    "outputId": "02bbeeae-bc37-423e-90dd-344950811a79"
   },
   "outputs": [
    {
     "data": {
      "text/plain": [
       "array([[5, 6],\n",
       "       [7, 8],\n",
       "       [5, 6],\n",
       "       [7, 8],\n",
       "       [5, 6],\n",
       "       [7, 8],\n",
       "       [5, 6],\n",
       "       [7, 8]])"
      ]
     },
     "execution_count": 22,
     "metadata": {
      "tags": []
     },
     "output_type": "execute_result"
    }
   ],
   "source": [
    "d = np.array([5, 6, 7, 8])\n",
    "np.resize(d, (8,2))"
   ]
  },
  {
   "cell_type": "markdown",
   "metadata": {
    "id": "tx2aqQ0RQdba"
   },
   "source": [
    "### Transpose"
   ]
  },
  {
   "cell_type": "code",
   "execution_count": 23,
   "metadata": {
    "colab": {
     "base_uri": "https://localhost:8080/"
    },
    "id": "7bFbUdClMpSY",
    "outputId": "9b407730-182e-4c2d-bd61-9090525ce95c"
   },
   "outputs": [
    {
     "data": {
      "text/plain": [
       "array([[ 1,  4,  7],\n",
       "       [ 2,  5,  8],\n",
       "       [ 3,  6,  9],\n",
       "       [ 4, -1, 12]])"
      ]
     },
     "execution_count": 23,
     "metadata": {
      "tags": []
     },
     "output_type": "execute_result"
    }
   ],
   "source": [
    "c.T"
   ]
  },
  {
   "cell_type": "code",
   "execution_count": 24,
   "metadata": {
    "colab": {
     "base_uri": "https://localhost:8080/"
    },
    "id": "U7K1KRZwMrsm",
    "outputId": "79e726e8-3ea7-4dad-fe27-29abba2735eb"
   },
   "outputs": [
    {
     "data": {
      "text/plain": [
       "array([[ 1,  4,  7],\n",
       "       [ 2,  5,  8],\n",
       "       [ 3,  6,  9],\n",
       "       [ 4, -1, 12]])"
      ]
     },
     "execution_count": 24,
     "metadata": {
      "tags": []
     },
     "output_type": "execute_result"
    }
   ],
   "source": [
    "c.transpose((1, 0)) # Reverses or permutes the axes of the array. The axes here are 0 and 1"
   ]
  },
  {
   "cell_type": "markdown",
   "metadata": {
    "id": "yN_Tzm93Q41j"
   },
   "source": [
    "### Sum of Arrays"
   ]
  },
  {
   "cell_type": "code",
   "execution_count": 25,
   "metadata": {
    "colab": {
     "base_uri": "https://localhost:8080/"
    },
    "id": "02PAzgZ0KkVL",
    "outputId": "04e4e031-3d38-4cf1-ac8c-c89beb35d3e0"
   },
   "outputs": [
    {
     "data": {
      "text/plain": [
       "25"
      ]
     },
     "execution_count": 25,
     "metadata": {
      "tags": []
     },
     "output_type": "execute_result"
    }
   ],
   "source": [
    "np.sum(a)"
   ]
  },
  {
   "cell_type": "code",
   "execution_count": 26,
   "metadata": {
    "colab": {
     "base_uri": "https://localhost:8080/"
    },
    "id": "VzOrh2hEK_1I",
    "outputId": "c6e27bf1-e8d1-4bea-e777-f73847e049e7"
   },
   "outputs": [
    {
     "data": {
      "text/plain": [
       "25"
      ]
     },
     "execution_count": 26,
     "metadata": {
      "tags": []
     },
     "output_type": "execute_result"
    }
   ],
   "source": [
    "a.sum()"
   ]
  },
  {
   "cell_type": "code",
   "execution_count": 27,
   "metadata": {
    "colab": {
     "base_uri": "https://localhost:8080/"
    },
    "id": "9kzwA6vRNPZI",
    "outputId": "25950869-7f37-4803-b2a9-7af18f5f466c"
   },
   "outputs": [
    {
     "data": {
      "text/plain": [
       "array([12, 15, 18, 15])"
      ]
     },
     "execution_count": 27,
     "metadata": {
      "tags": []
     },
     "output_type": "execute_result"
    }
   ],
   "source": [
    "c.sum(axis = 0) # Sum by columns"
   ]
  },
  {
   "cell_type": "code",
   "execution_count": 28,
   "metadata": {
    "colab": {
     "base_uri": "https://localhost:8080/"
    },
    "id": "pKPP4MrJNTr_",
    "outputId": "c38fb376-9323-4c41-c1e4-552bef5aea02"
   },
   "outputs": [
    {
     "data": {
      "text/plain": [
       "array([10, 14, 36])"
      ]
     },
     "execution_count": 28,
     "metadata": {
      "tags": []
     },
     "output_type": "execute_result"
    }
   ],
   "source": [
    "c.sum(axis = 1) # Sum by rows"
   ]
  },
  {
   "cell_type": "code",
   "execution_count": 29,
   "metadata": {
    "colab": {
     "base_uri": "https://localhost:8080/"
    },
    "id": "oMYK71V0NVz1",
    "outputId": "a880691f-f7e1-4434-f1cd-4f2854f25d24"
   },
   "outputs": [
    {
     "data": {
      "text/plain": [
       "60"
      ]
     },
     "execution_count": 29,
     "metadata": {
      "tags": []
     },
     "output_type": "execute_result"
    }
   ],
   "source": [
    "c.sum() # Total sum of all elements"
   ]
  },
  {
   "cell_type": "markdown",
   "metadata": {
    "id": "YXsKAR_7RYOw"
   },
   "source": [
    "### Dot Product of Two Matrices"
   ]
  },
  {
   "cell_type": "code",
   "execution_count": 30,
   "metadata": {
    "colab": {
     "base_uri": "https://localhost:8080/"
    },
    "id": "widjTUmINvOY",
    "outputId": "10d8d7f9-1a32-4685-cb98-ed146286b611"
   },
   "outputs": [
    {
     "data": {
      "text/plain": [
       "array([[ 30,  17],\n",
       "       [ 69,  47],\n",
       "       [108,  77]])"
      ]
     },
     "execution_count": 30,
     "metadata": {
      "tags": []
     },
     "output_type": "execute_result"
    }
   ],
   "source": [
    "e = np.array([[1, 2, 3], [4, 5, 6], [7, 8, 9]])\n",
    "f = np.array([[4, 5], [1, 3], [8, 2]])\n",
    "e.dot(f)"
   ]
  },
  {
   "cell_type": "markdown",
   "metadata": {
    "id": "WR5JphFHRaTD"
   },
   "source": [
    "### Statistics in Arrays"
   ]
  },
  {
   "cell_type": "code",
   "execution_count": 31,
   "metadata": {
    "colab": {
     "base_uri": "https://localhost:8080/"
    },
    "id": "-UPTdvTUOjWT",
    "outputId": "c536e5ac-a83e-4725-ea9e-29edc52f0603"
   },
   "outputs": [
    {
     "data": {
      "text/plain": [
       "1"
      ]
     },
     "execution_count": 31,
     "metadata": {
      "tags": []
     },
     "output_type": "execute_result"
    }
   ],
   "source": [
    "e.min()"
   ]
  },
  {
   "cell_type": "code",
   "execution_count": 32,
   "metadata": {
    "colab": {
     "base_uri": "https://localhost:8080/"
    },
    "id": "0WAqd5e4Ok5S",
    "outputId": "68403f67-2830-4769-8bc2-83a883353c55"
   },
   "outputs": [
    {
     "data": {
      "text/plain": [
       "9"
      ]
     },
     "execution_count": 32,
     "metadata": {
      "tags": []
     },
     "output_type": "execute_result"
    }
   ],
   "source": [
    "e.max()"
   ]
  },
  {
   "cell_type": "code",
   "execution_count": 33,
   "metadata": {
    "colab": {
     "base_uri": "https://localhost:8080/"
    },
    "id": "4VVC3szDOrnz",
    "outputId": "7e1d46d4-933d-4266-efc3-22a57fc79cd6"
   },
   "outputs": [
    {
     "data": {
      "text/plain": [
       "5.0"
      ]
     },
     "execution_count": 33,
     "metadata": {
      "tags": []
     },
     "output_type": "execute_result"
    }
   ],
   "source": [
    "e.mean()"
   ]
  },
  {
   "cell_type": "code",
   "execution_count": 34,
   "metadata": {
    "colab": {
     "base_uri": "https://localhost:8080/"
    },
    "id": "pAU3h70POuQx",
    "outputId": "2a81e0dc-6c39-4951-eb11-11284674b10f"
   },
   "outputs": [
    {
     "data": {
      "text/plain": [
       "3.5"
      ]
     },
     "execution_count": 34,
     "metadata": {
      "tags": []
     },
     "output_type": "execute_result"
    }
   ],
   "source": [
    "np.median(f)"
   ]
  },
  {
   "cell_type": "code",
   "execution_count": 35,
   "metadata": {
    "colab": {
     "base_uri": "https://localhost:8080/"
    },
    "id": "dspvT7oDOyH4",
    "outputId": "cdf5abbc-568d-4fb6-df80-6d47bc5d0598"
   },
   "outputs": [
    {
     "data": {
      "text/plain": [
       "2.266911751455907"
      ]
     },
     "execution_count": 35,
     "metadata": {
      "tags": []
     },
     "output_type": "execute_result"
    }
   ],
   "source": [
    "f.std()"
   ]
  },
  {
   "cell_type": "markdown",
   "metadata": {
    "id": "NS5YT61CRfOf"
   },
   "source": [
    "### Sorting"
   ]
  },
  {
   "cell_type": "code",
   "execution_count": 36,
   "metadata": {
    "colab": {
     "base_uri": "https://localhost:8080/"
    },
    "id": "-75gEwiJPA0X",
    "outputId": "bcdf3ab3-244d-480e-f855-82b4c3c8df10"
   },
   "outputs": [
    {
     "data": {
      "text/plain": [
       "array([[1, 2],\n",
       "       [4, 3],\n",
       "       [8, 5]])"
      ]
     },
     "execution_count": 36,
     "metadata": {
      "tags": []
     },
     "output_type": "execute_result"
    }
   ],
   "source": [
    "np.sort(f, axis = 0) # Sorts each column separately"
   ]
  },
  {
   "cell_type": "markdown",
   "metadata": {
    "id": "6DUoh4hGGwG9"
   },
   "source": [
    "##NumPy Documentation\n",
    "Link : [Go here for User Guide and API Reference](https://numpy.org/doc/)\n"
   ]
  }
 ],
 "metadata": {
  "colab": {
   "collapsed_sections": [],
   "name": "NumPy_Part2.ipynb",
   "provenance": []
  },
  "kernelspec": {
   "display_name": "Python 3",
   "language": "python",
   "name": "python3"
  },
  "language_info": {
   "codemirror_mode": {
    "name": "ipython",
    "version": 3
   },
   "file_extension": ".py",
   "mimetype": "text/x-python",
   "name": "python",
   "nbconvert_exporter": "python",
   "pygments_lexer": "ipython3",
   "version": "3.8.10"
  }
 },
 "nbformat": 4,
 "nbformat_minor": 1
}
